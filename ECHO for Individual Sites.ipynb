{
 "cells": [
  {
   "cell_type": "markdown",
   "metadata": {},
   "source": [
    "# Exploring ECHO Data in Your Area\n",
    "This workbook is a way to quickly view data from EPA's Enforcement and Compliance History Online portal that is relevant just to your area.\n",
    "It is designed to work with the [ECHO Exporter](https://echo.epa.gov/tools/data-downloads#exporter) file (download as ZIP file and extract to CSV).\n",
    "\n",
    "Input your zip code into the text box below, then click the \"Run\" button to see data for your region!"
   ]
  },
  {
   "cell_type": "code",
   "execution_count": 7,
   "metadata": {},
   "outputs": [],
   "source": [
    "# Not currently using this section, it's a way to make this page into more of an app/less of a data science notebook\n",
    "\n",
    "# # Widgets for defined interaction\n",
    "# import ipywidgets as widgets\n",
    "# from IPython.display import display\n",
    "# w = widgets.Text(\"53703\")\n",
    "# display(w)"
   ]
  },
  {
   "cell_type": "code",
   "execution_count": 8,
   "metadata": {},
   "outputs": [],
   "source": [
    "my_zip = \"98296\"\n",
    "data_location = \"data/ECHO_EXPORTER.csv\" # Where the ECHO data is saved on your computer in relation to this file"
   ]
  },
  {
   "cell_type": "markdown",
   "metadata": {},
   "source": [
    "### Below this point, everything is calculated automatically\n",
    "\n",
    "You don't need to interact with it in order to get it to work, but if you want to dive deeper, you can use it to get started exploring!"
   ]
  },
  {
   "cell_type": "code",
   "execution_count": 3,
   "metadata": {},
   "outputs": [],
   "source": [
    "# Import libraries\n",
    "import pandas as pd\n",
    "import numpy as np\n",
    "import matplotlib.pyplot as plt\n",
    "%matplotlib inline"
   ]
  },
  {
   "cell_type": "code",
   "execution_count": 52,
   "metadata": {},
   "outputs": [],
   "source": [
    "# Define columns of interest (see the echo_exporter_columns xlsx file that comes bundled with the csv download)\n",
    "# This is not a comprehensive list of columns; more are available.\n",
    "# This dictionary maps the column titles to their data types, to allow for faster import\n",
    "\n",
    "# Note to self - right now mapping everything not explicitly a number as a string, might be an issue later\n",
    "column_mapping = {\n",
    "    \"REGISTRY_ID\": str,\n",
    "    \"FAC_NAME\": str,\n",
    "    \"FAC_ZIP\": str,\n",
    "    \"FAC_LAT\": float,\n",
    "    \"FAC_LONG\": float,\n",
    "    \"FAC_QTRS_WITH_NC\": float,\n",
    "    \"CAA_PERMIT_TYPES\": str,\n",
    "    \"CWA_PERMIT_TYPES\": str,\n",
    "    \"RCRA_PERMIT_TYPES\": str\n",
    "}\n",
    "# not currently using: \"FAC_3YR_COMPLIANCE_HISTORY\", \"FAC_INSPECTION_COUNT\", \"FAC_INFORMAL_COUNT\", \"FAC_FORMAL_ACTION_COUNT\","
   ]
  },
  {
   "cell_type": "code",
   "execution_count": 53,
   "metadata": {},
   "outputs": [
    {
     "data": {
      "text/html": [
       "<div>\n",
       "<style scoped>\n",
       "    .dataframe tbody tr th:only-of-type {\n",
       "        vertical-align: middle;\n",
       "    }\n",
       "\n",
       "    .dataframe tbody tr th {\n",
       "        vertical-align: top;\n",
       "    }\n",
       "\n",
       "    .dataframe thead th {\n",
       "        text-align: right;\n",
       "    }\n",
       "</style>\n",
       "<table border=\"1\" class=\"dataframe\">\n",
       "  <thead>\n",
       "    <tr style=\"text-align: right;\">\n",
       "      <th></th>\n",
       "      <th>REGISTRY_ID</th>\n",
       "      <th>FAC_NAME</th>\n",
       "      <th>FAC_ZIP</th>\n",
       "      <th>FAC_LAT</th>\n",
       "      <th>FAC_LONG</th>\n",
       "      <th>FAC_QTRS_WITH_NC</th>\n",
       "      <th>CAA_PERMIT_TYPES</th>\n",
       "      <th>CWA_PERMIT_TYPES</th>\n",
       "      <th>RCRA_PERMIT_TYPES</th>\n",
       "    </tr>\n",
       "  </thead>\n",
       "  <tbody>\n",
       "    <tr>\n",
       "      <th>0</th>\n",
       "      <td>110007920152</td>\n",
       "      <td>GREAT WESTERN CHEMICAL CO KENAI</td>\n",
       "      <td>99611</td>\n",
       "      <td>60.654480</td>\n",
       "      <td>-151.310147</td>\n",
       "      <td>0.0</td>\n",
       "      <td>NaN</td>\n",
       "      <td>NaN</td>\n",
       "      <td>VSQG</td>\n",
       "    </tr>\n",
       "    <tr>\n",
       "      <th>1</th>\n",
       "      <td>110064336240</td>\n",
       "      <td>LOST VALLEY LAKE RESORT</td>\n",
       "      <td>65066</td>\n",
       "      <td>38.476060</td>\n",
       "      <td>-91.387974</td>\n",
       "      <td>10.0</td>\n",
       "      <td>NaN</td>\n",
       "      <td>Minor</td>\n",
       "      <td>NaN</td>\n",
       "    </tr>\n",
       "    <tr>\n",
       "      <th>2</th>\n",
       "      <td>110010488105</td>\n",
       "      <td>CROW CANYON CLEANERS</td>\n",
       "      <td>94568</td>\n",
       "      <td>37.705084</td>\n",
       "      <td>-121.936713</td>\n",
       "      <td>0.0</td>\n",
       "      <td>NaN</td>\n",
       "      <td>NaN</td>\n",
       "      <td>Transporter</td>\n",
       "    </tr>\n",
       "    <tr>\n",
       "      <th>3</th>\n",
       "      <td>110002976067</td>\n",
       "      <td>APPLE CLNRS</td>\n",
       "      <td>80260</td>\n",
       "      <td>39.856280</td>\n",
       "      <td>-104.996657</td>\n",
       "      <td>0.0</td>\n",
       "      <td>NaN</td>\n",
       "      <td>NaN</td>\n",
       "      <td>Other</td>\n",
       "    </tr>\n",
       "    <tr>\n",
       "      <th>4</th>\n",
       "      <td>110013694582</td>\n",
       "      <td>NEWTOWN PUBLIC WORKS FACILITY</td>\n",
       "      <td>06470</td>\n",
       "      <td>41.386400</td>\n",
       "      <td>-73.278170</td>\n",
       "      <td>0.0</td>\n",
       "      <td>NaN</td>\n",
       "      <td>Minor</td>\n",
       "      <td>NaN</td>\n",
       "    </tr>\n",
       "  </tbody>\n",
       "</table>\n",
       "</div>"
      ],
      "text/plain": [
       "    REGISTRY_ID                         FAC_NAME FAC_ZIP    FAC_LAT  \\\n",
       "0  110007920152  GREAT WESTERN CHEMICAL CO KENAI   99611  60.654480   \n",
       "1  110064336240          LOST VALLEY LAKE RESORT   65066  38.476060   \n",
       "2  110010488105             CROW CANYON CLEANERS   94568  37.705084   \n",
       "3  110002976067                      APPLE CLNRS   80260  39.856280   \n",
       "4  110013694582    NEWTOWN PUBLIC WORKS FACILITY   06470  41.386400   \n",
       "\n",
       "     FAC_LONG  FAC_QTRS_WITH_NC CAA_PERMIT_TYPES CWA_PERMIT_TYPES  \\\n",
       "0 -151.310147               0.0              NaN              NaN   \n",
       "1  -91.387974              10.0              NaN            Minor   \n",
       "2 -121.936713               0.0              NaN              NaN   \n",
       "3 -104.996657               0.0              NaN              NaN   \n",
       "4  -73.278170               0.0              NaN            Minor   \n",
       "\n",
       "  RCRA_PERMIT_TYPES  \n",
       "0              VSQG  \n",
       "1               NaN  \n",
       "2       Transporter  \n",
       "3             Other  \n",
       "4               NaN  "
      ]
     },
     "execution_count": 53,
     "metadata": {},
     "output_type": "execute_result"
    }
   ],
   "source": [
    "# Get the data\n",
    "echo_data = pd.read_csv(data_location, usecols = list(column_mapping.keys()), dtype=column_mapping)\n",
    "echo_data.head()"
   ]
  },
  {
   "cell_type": "code",
   "execution_count": 64,
   "metadata": {},
   "outputs": [
    {
     "name": "stdout",
     "output_type": "stream",
     "text": [
      "There are 59 facilities in 98296 tracked in the ECHO database.\n"
     ]
    }
   ],
   "source": [
    "# Filter to just your zip code\n",
    "my_echo = echo_data[echo_data[\"FAC_ZIP\"] == my_zip]\n",
    "\n",
    "# Get an idea of how much data we're working with (rows, cols)\n",
    "print(\"There are %s facilities in %s tracked in the ECHO database.\" %(my_echo.shape[0], my_zip))"
   ]
  },
  {
   "cell_type": "code",
   "execution_count": 75,
   "metadata": {},
   "outputs": [
    {
     "name": "stdout",
     "output_type": "stream",
     "text": [
      "CAA_PERMIT_TYPES\n"
     ]
    },
    {
     "ename": "AttributeError",
     "evalue": "'list' object has no attribute 'dropna'",
     "output_type": "error",
     "traceback": [
      "\u001b[0;31m---------------------------------------------------------------------------\u001b[0m",
      "\u001b[0;31mAttributeError\u001b[0m                            Traceback (most recent call last)",
      "\u001b[0;32m<ipython-input-75-ab80af4d6f32>\u001b[0m in \u001b[0;36m<module>\u001b[0;34m\u001b[0m\n\u001b[1;32m      7\u001b[0m     \u001b[0mprint\u001b[0m\u001b[0;34m(\u001b[0m\u001b[0mpermit_law\u001b[0m\u001b[0;34m)\u001b[0m\u001b[0;34m\u001b[0m\u001b[0;34m\u001b[0m\u001b[0m\n\u001b[1;32m      8\u001b[0m     \u001b[0;31m# Find out what the unique values are\u001b[0m\u001b[0;34m\u001b[0m\u001b[0;34m\u001b[0m\u001b[0;34m\u001b[0m\u001b[0m\n\u001b[0;32m----> 9\u001b[0;31m     \u001b[0mpermit_types\u001b[0m \u001b[0;34m=\u001b[0m \u001b[0mmy_echo\u001b[0m\u001b[0;34m[\u001b[0m\u001b[0mpermit_law\u001b[0m\u001b[0;34m]\u001b[0m\u001b[0;34m.\u001b[0m\u001b[0munique\u001b[0m\u001b[0;34m(\u001b[0m\u001b[0;34m)\u001b[0m\u001b[0;34m.\u001b[0m\u001b[0mtolist\u001b[0m\u001b[0;34m(\u001b[0m\u001b[0;34m)\u001b[0m\u001b[0;34m.\u001b[0m\u001b[0mdropna\u001b[0m\u001b[0;34m(\u001b[0m\u001b[0;34m)\u001b[0m\u001b[0;34m\u001b[0m\u001b[0;34m\u001b[0m\u001b[0m\n\u001b[0m\u001b[1;32m     10\u001b[0m     \u001b[0mprint\u001b[0m\u001b[0;34m(\u001b[0m\u001b[0mpermit_types\u001b[0m\u001b[0;34m)\u001b[0m\u001b[0;34m\u001b[0m\u001b[0;34m\u001b[0m\u001b[0m\n\u001b[1;32m     11\u001b[0m     \u001b[0;32mfor\u001b[0m \u001b[0mpermit_type\u001b[0m \u001b[0;32min\u001b[0m \u001b[0mpermit_types\u001b[0m\u001b[0;34m:\u001b[0m\u001b[0;34m\u001b[0m\u001b[0;34m\u001b[0m\u001b[0m\n",
      "\u001b[0;31mAttributeError\u001b[0m: 'list' object has no attribute 'dropna'"
     ]
    }
   ],
   "source": [
    "# What permit types are active in this zip code?\n",
    "\n",
    "permit_cols = [\"CAA_PERMIT_TYPES\",\"CWA_PERMIT_TYPES\",\"RCRA_PERMIT_TYPES\"]\n",
    "\n",
    "# For each permit type\n",
    "for permit_law in permit_cols:\n",
    "    print(permit_law)\n",
    "    # Find out what the unique values are\n",
    "    permit_types = my_echo[permit_law].unique().tolist()\n",
    "    print(permit_types)\n",
    "    for permit_type in permit_types:\n",
    "        # Count those unique values\n",
    "        print(permit_law.replace(\"_PERMIT_TYPES\",\"\"))\n",
    "        print(permit_type)\n",
    "        print(my_echo[my_echo[permit_law] == permit_type].shape[0])\n",
    "# Output a dataframe (permit type, count)"
   ]
  },
  {
   "cell_type": "code",
   "execution_count": null,
   "metadata": {},
   "outputs": [],
   "source": [
    "# How many facilities have been out of compliance in the last 12 quarters?\n",
    "\n",
    "noncompliant = my_echo[my_echo[\"FAC_QTRS_WITH_NC\"] > 0]\n",
    "plt.pie([noncompliant.shape[0], my_echo.shape[0] - noncompliant.shape[0]], labels=[\"Noncompliant\", \"Compliant\"], autopct='%1.1f%%', shadow=True)\n",
    "\n",
    "plt.title(\"%s of %s Total Facilities Noncompliant in %s in the last 12 qtrs\" %(noncompliant.shape[0], my_echo.shape[0], my_zip))"
   ]
  },
  {
   "cell_type": "code",
   "execution_count": null,
   "metadata": {},
   "outputs": [],
   "source": [
    "# Which facilities aren't in compliance?\n",
    "\n",
    "print(\"Facilities in %s noncompliant in the last 12 quarters:\" %my_zip)\n",
    "print(noncompliant[\"FAC_NAME\"])"
   ]
  },
  {
   "cell_type": "markdown",
   "metadata": {},
   "source": [
    "# Next questions\n",
    "* Which facilities aren't in compliance?\n",
    "* Where are they (on a map)?\n",
    "* What are the top 3 noncompliant facilities in the zip code and what are they violating?\n",
    "* Which types of noncompliance are we experiencing here?\n",
    "* What permits are issued in this region?\n",
    "* Beyond \"significant\" – how much over their permits are they?\n"
   ]
  }
 ],
 "metadata": {
  "kernelspec": {
   "display_name": "Python 3",
   "language": "python",
   "name": "python3"
  },
  "language_info": {
   "codemirror_mode": {
    "name": "ipython",
    "version": 3
   },
   "file_extension": ".py",
   "mimetype": "text/x-python",
   "name": "python",
   "nbconvert_exporter": "python",
   "pygments_lexer": "ipython3",
   "version": "3.7.4"
  }
 },
 "nbformat": 4,
 "nbformat_minor": 2
}
