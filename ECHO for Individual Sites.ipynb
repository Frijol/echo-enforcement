{
 "cells": [
  {
   "cell_type": "markdown",
   "metadata": {},
   "source": [
    "# Exploring ECHO Data in Your Area\n",
    "This workbook is a way to quickly view data from EPA's Enforcement and Compliance History Online portal.\n",
    "\n",
    "Input your zip code into the text box below, then click the \"Run\" button to see data for your region!"
   ]
  },
  {
   "cell_type": "code",
   "execution_count": 1,
   "metadata": {},
   "outputs": [
    {
     "data": {
      "application/vnd.jupyter.widget-view+json": {
       "model_id": "420f65ec38f042a2ba69360cbfe9e1fd",
       "version_major": 2,
       "version_minor": 0
      },
      "text/plain": [
       "Text(value='98296')"
      ]
     },
     "metadata": {},
     "output_type": "display_data"
    }
   ],
   "source": [
    "import ipywidgets as widgets\n",
    "from IPython.display import display\n",
    "w = widgets.Text(\"98296\")\n",
    "display(w)"
   ]
  },
  {
   "cell_type": "code",
   "execution_count": 21,
   "metadata": {},
   "outputs": [],
   "source": [
    "my_zip = w.value\n",
    "data_location = \"data/ECHO_EXPORTER.csv\" # Where the ECHO data is saved on your computer in relation to this file"
   ]
  },
  {
   "cell_type": "markdown",
   "metadata": {},
   "source": [
    "### Below this point, everything is calculated automatically\n",
    "\n",
    "You don't need to interact with it in order to get it to work, but if you want to dive deeper, you can use it to get started exploring!"
   ]
  },
  {
   "cell_type": "code",
   "execution_count": 22,
   "metadata": {},
   "outputs": [],
   "source": [
    "# Import libraries\n",
    "import pandas as pd\n",
    "import numpy as np\n",
    "import matplotlib.pyplot as plt\n",
    "%matplotlib inline"
   ]
  },
  {
   "cell_type": "code",
   "execution_count": 23,
   "metadata": {},
   "outputs": [],
   "source": [
    "# Get the data\n",
    "my_cols = [\"REGISTRY_ID\", \"FAC_ZIP\", \"FAC_QTRS_WITH_NC\", \"FAC_3YR_COMPLIANCE_HISTORY\", \"FAC_INSPECTION_COUNT\", \"FAC_INFORMAL_COUNT\", \"FAC_FORMAL_ACTION_COUNT\", \"GHG_CO2_RELEASES\"]\n",
    "echo_data = pd.read_csv(data_location, usecols = my_cols)\n",
    "\n",
    "# Filter to just your zip code\n",
    "my_echo = echo_data[echo_data[\"FAC_ZIP\"] == my_zip]"
   ]
  },
  {
   "cell_type": "code",
   "execution_count": 24,
   "metadata": {},
   "outputs": [
    {
     "data": {
      "text/plain": [
       "Text(0.5, 1.0, '10 of 27 Total Facilities Noncompliant in 98010')"
      ]
     },
     "execution_count": 24,
     "metadata": {},
     "output_type": "execute_result"
    },
    {
     "data": {
      "image/png": "[encoded data removed]",
      "text/plain": [
       "<Figure size 432x288 with 1 Axes>"
      ]
     },
     "metadata": {},
     "output_type": "display_data"
    }
   ],
   "source": [
    "# Get some basic stats on facilities in the zip code\n",
    "noncompliant = my_echo[my_echo[\"FAC_QTRS_WITH_NC\"] > 0]\n",
    "plt.pie([noncompliant.shape[0], my_echo.shape[0] - noncompliant.shape[0]], labels=[\"Noncompliant\", \"Compliant\"], autopct='%1.1f%%', shadow=True)\n",
    "\n",
    "plt.title(\"%s of %s Total Facilities Noncompliant in %s\" %(noncompliant.shape[0], my_echo.shape[0], my_zip))"
   ]
  },
  {
   "cell_type": "code",
   "execution_count": null,
   "metadata": {},
   "outputs": [],
   "source": []
  }
 ],
 "metadata": {
  "kernelspec": {
   "display_name": "Python 3",
   "language": "python",
   "name": "python3"
  },
  "language_info": {
   "codemirror_mode": {
    "name": "ipython",
    "version": 3
   },
   "file_extension": ".py",
   "mimetype": "text/x-python",
   "name": "python",
   "nbconvert_exporter": "python",
   "pygments_lexer": "ipython3",
   "version": "3.7.4"
  }
 },
 "nbformat": 4,
 "nbformat_minor": 2
}
