{
 "cells": [
  {
   "cell_type": "markdown",
   "metadata": {},
   "source": [
    "# ECHO Data Project\n",
    "\n",
    "**Question: is anyone gaming the ECHO enforcement algorithm?**\n",
    "\n",
    "* Enforcement algorithm: 10 continuous quarters of noncompliance (check this/cite)\n",
    "* Research plan: Pull data of entities with violations, make a histogram of the number of contiguous months they are in violation. Is there any unusual shape around the algorithm limit for enforcement?\n",
    "\n",
    "## What data is needed?\n",
    "* 12-quarter violation history across facilities (can discard those with no violations)\n",
    "* Recent enforcement (Y/N)\n",
    "* Other information for further exploration?\n",
    "\n",
    "## Finding the data\n",
    "* EPA's ECHO (Enforcement and Compliance History Online) portal ([Data Downloads page](https://echo.epa.gov/tools/data-downloads))\n",
    "* `echo_exporter_columns_07242019.xlsx` gives data element descriptions for the larger echo_data_exporter"
   ]
  },
  {
   "cell_type": "code",
   "execution_count": 1,
   "metadata": {},
   "outputs": [],
   "source": [
    "# import libraries\n",
    "\n",
    "import pandas as pd\n",
    "import numpy as np\n",
    "import matplotlib.pyplot as plt\n",
    "%matplotlib inline"
   ]
  },
  {
   "cell_type": "code",
   "execution_count": 72,
   "metadata": {},
   "outputs": [
    {
     "data": {
      "text/html": [
       "<div>\n",
       "<style scoped>\n",
       "    .dataframe tbody tr th:only-of-type {\n",
       "        vertical-align: middle;\n",
       "    }\n",
       "\n",
       "    .dataframe tbody tr th {\n",
       "        vertical-align: top;\n",
       "    }\n",
       "\n",
       "    .dataframe thead th {\n",
       "        text-align: right;\n",
       "    }\n",
       "</style>\n",
       "<table border=\"1\" class=\"dataframe\">\n",
       "  <thead>\n",
       "    <tr style=\"text-align: right;\">\n",
       "      <th></th>\n",
       "      <th>REGISTRY_ID</th>\n",
       "      <th>FAC_LAT</th>\n",
       "      <th>FAC_LONG</th>\n",
       "      <th>FAC_INSPECTION_COUNT</th>\n",
       "      <th>FAC_INFORMAL_COUNT</th>\n",
       "      <th>FAC_FORMAL_ACTION_COUNT</th>\n",
       "      <th>FAC_PENALTY_COUNT</th>\n",
       "      <th>FAC_QTRS_WITH_NC</th>\n",
       "      <th>FAC_3YR_COMPLIANCE_HISTORY</th>\n",
       "    </tr>\n",
       "  </thead>\n",
       "  <tbody>\n",
       "    <tr>\n",
       "      <th>0</th>\n",
       "      <td>1.100079e+11</td>\n",
       "      <td>60.654480</td>\n",
       "      <td>-151.310147</td>\n",
       "      <td>0</td>\n",
       "      <td>0</td>\n",
       "      <td>0</td>\n",
       "      <td>NaN</td>\n",
       "      <td>0.0</td>\n",
       "      <td>____________</td>\n",
       "    </tr>\n",
       "    <tr>\n",
       "      <th>1</th>\n",
       "      <td>1.100643e+11</td>\n",
       "      <td>38.476060</td>\n",
       "      <td>-91.387974</td>\n",
       "      <td>0</td>\n",
       "      <td>0</td>\n",
       "      <td>0</td>\n",
       "      <td>NaN</td>\n",
       "      <td>10.0</td>\n",
       "      <td>UVVVS_VVSVVV</td>\n",
       "    </tr>\n",
       "    <tr>\n",
       "      <th>2</th>\n",
       "      <td>1.100105e+11</td>\n",
       "      <td>37.705084</td>\n",
       "      <td>-121.936713</td>\n",
       "      <td>0</td>\n",
       "      <td>0</td>\n",
       "      <td>0</td>\n",
       "      <td>NaN</td>\n",
       "      <td>0.0</td>\n",
       "      <td>____________</td>\n",
       "    </tr>\n",
       "    <tr>\n",
       "      <th>3</th>\n",
       "      <td>1.100030e+11</td>\n",
       "      <td>39.856280</td>\n",
       "      <td>-104.996657</td>\n",
       "      <td>0</td>\n",
       "      <td>0</td>\n",
       "      <td>0</td>\n",
       "      <td>NaN</td>\n",
       "      <td>0.0</td>\n",
       "      <td>____________</td>\n",
       "    </tr>\n",
       "    <tr>\n",
       "      <th>4</th>\n",
       "      <td>1.100137e+11</td>\n",
       "      <td>41.386400</td>\n",
       "      <td>-73.278170</td>\n",
       "      <td>1</td>\n",
       "      <td>0</td>\n",
       "      <td>0</td>\n",
       "      <td>NaN</td>\n",
       "      <td>0.0</td>\n",
       "      <td>____________</td>\n",
       "    </tr>\n",
       "  </tbody>\n",
       "</table>\n",
       "</div>"
      ],
      "text/plain": [
       "    REGISTRY_ID    FAC_LAT    FAC_LONG  FAC_INSPECTION_COUNT  \\\n",
       "0  1.100079e+11  60.654480 -151.310147                     0   \n",
       "1  1.100643e+11  38.476060  -91.387974                     0   \n",
       "2  1.100105e+11  37.705084 -121.936713                     0   \n",
       "3  1.100030e+11  39.856280 -104.996657                     0   \n",
       "4  1.100137e+11  41.386400  -73.278170                     1   \n",
       "\n",
       "   FAC_INFORMAL_COUNT  FAC_FORMAL_ACTION_COUNT  FAC_PENALTY_COUNT  \\\n",
       "0                   0                        0                NaN   \n",
       "1                   0                        0                NaN   \n",
       "2                   0                        0                NaN   \n",
       "3                   0                        0                NaN   \n",
       "4                   0                        0                NaN   \n",
       "\n",
       "   FAC_QTRS_WITH_NC FAC_3YR_COMPLIANCE_HISTORY  \n",
       "0               0.0               ____________  \n",
       "1              10.0               UVVVS_VVSVVV  \n",
       "2               0.0               ____________  \n",
       "3               0.0               ____________  \n",
       "4               0.0               ____________  "
      ]
     },
     "execution_count": 72,
     "metadata": {},
     "output_type": "execute_result"
    }
   ],
   "source": [
    "# get the data\n",
    "\n",
    "my_cols = [\"REGISTRY_ID\", \"FAC_QTRS_WITH_NC\", \"FAC_3YR_COMPLIANCE_HISTORY\", \"FAC_LAT\", \"FAC_LONG\", \"FAC_INSPECTION_COUNT\", \"FAC_INFORMAL_COUNT\", \"FAC_FORMAL_ACTION_COUNT\"]\n",
    "echo_data = pd.read_csv(\"data/ECHO_EXPORTER.csv\", usecols = my_cols)\n",
    "echo_data.head()"
   ]
  },
  {
   "cell_type": "code",
   "execution_count": 73,
   "metadata": {},
   "outputs": [
    {
     "data": {
      "text/plain": [
       "(2254693, 9)"
      ]
     },
     "execution_count": 73,
     "metadata": {},
     "output_type": "execute_result"
    }
   ],
   "source": [
    "echo_data.shape"
   ]
  },
  {
   "cell_type": "code",
   "execution_count": 74,
   "metadata": {},
   "outputs": [
    {
     "data": {
      "text/plain": [
       "(166954, 9)"
      ]
     },
     "execution_count": 74,
     "metadata": {},
     "output_type": "execute_result"
    }
   ],
   "source": [
    "# clean the data\n",
    "\n",
    "# we are only interested in facilities with violations\n",
    "violators = echo_data[\"FAC_QTRS_WITH_NC\"] > 0\n",
    "\n",
    "clean_data = echo_data[violators]\n",
    "clean_data.shape"
   ]
  },
  {
   "cell_type": "code",
   "execution_count": 75,
   "metadata": {},
   "outputs": [
    {
     "data": {
      "text/plain": [
       "False"
      ]
     },
     "execution_count": 75,
     "metadata": {},
     "output_type": "execute_result"
    }
   ],
   "source": [
    "# are there null vals we need to worry about?\n",
    "\n",
    "clean_data[\"FAC_3YR_COMPLIANCE_HISTORY\"].isnull().any()"
   ]
  },
  {
   "cell_type": "code",
   "execution_count": 76,
   "metadata": {},
   "outputs": [
    {
     "data": {
      "text/plain": [
       "False"
      ]
     },
     "execution_count": 76,
     "metadata": {},
     "output_type": "execute_result"
    }
   ],
   "source": [
    "clean_data[\"FAC_QTRS_WITH_NC\"].isnull().any()"
   ]
  },
  {
   "cell_type": "markdown",
   "metadata": {},
   "source": [
    "## Exploring the data"
   ]
  },
  {
   "cell_type": "code",
   "execution_count": 77,
   "metadata": {},
   "outputs": [
    {
     "data": {
      "text/plain": [
       "count    166954.000000\n",
       "mean          5.674557\n",
       "std           3.819690\n",
       "min           1.000000\n",
       "25%           2.000000\n",
       "50%           5.000000\n",
       "75%           9.000000\n",
       "max          12.000000\n",
       "Name: FAC_QTRS_WITH_NC, dtype: float64"
      ]
     },
     "execution_count": 77,
     "metadata": {},
     "output_type": "execute_result"
    }
   ],
   "source": [
    "clean_data[\"FAC_QTRS_WITH_NC\"].describe()"
   ]
  },
  {
   "cell_type": "code",
   "execution_count": 78,
   "metadata": {},
   "outputs": [
    {
     "data": {
      "image/png": "[encoded data removed]",
      "text/plain": [
       "<Figure size 432x288 with 1 Axes>"
      ]
     },
     "metadata": {
      "needs_background": "light"
     },
     "output_type": "display_data"
    }
   ],
   "source": [
    "# sounds like a bell curve, let's get a visual\n",
    "\n",
    "plt.hist(clean_data[\"FAC_QTRS_WITH_NC\"], bins=11)\n",
    "plt.title(\"American Facilities Violating EPA Emissions Permits\")\n",
    "plt.xlabel(\"Quarters (of last 12) in Emissions Noncompliance\")\n",
    "plt.ylabel(\"Number of Facilities\")\n",
    "plt.xlim(1, 12)\n",
    "plt.grid()"
   ]
  },
  {
   "cell_type": "code",
   "execution_count": 79,
   "metadata": {},
   "outputs": [
    {
     "data": {
      "image/png": "[encoded data removed]",
      "text/plain": [
       "<Figure size 432x288 with 1 Axes>"
      ]
     },
     "metadata": {
      "needs_background": "light"
     },
     "output_type": "display_data"
    }
   ],
   "source": [
    "# not what I expected at all! How does this compare to the broader set including the non-violators?\n",
    "\n",
    "plt.hist(echo_data[\"FAC_QTRS_WITH_NC\"], bins=12)\n",
    "plt.title(\"EPA Emissions Noncompliance of American Facilities\")\n",
    "plt.xlabel(\"Quarters (of last 12) in Emissions Noncompliance\")\n",
    "plt.ylabel(\"Number of Facilities\")\n",
    "plt.xlim(0, 12)\n",
    "plt.grid()"
   ]
  },
  {
   "cell_type": "markdown",
   "metadata": {},
   "source": [
    "So, most facilities haven't violated at all in the last 12 quarters. Among those who have, the number of violations is outlier-heavy. Let's dig a little deeper."
   ]
  },
  {
   "cell_type": "markdown",
   "metadata": {},
   "source": [
    "## Let's take a closer look at the compliance history column\n",
    "\n",
    "It's a string, which can be decoded according to a key provided in the echo_exporter spreadsheet:\n",
    "\n",
    "> Lists 12 quarters (3-month periods) with the following values:\n",
    "> \n",
    "> * `S`= SNC/HPV/Serious Violation\n",
    "> * `V`= violation/noncompliance\n",
    "> * `U`= unknown\n",
    "> * `_`= no violation identified\n",
    "> \n",
    "> Order equals the priority if multiple permits are present"
   ]
  },
  {
   "cell_type": "code",
   "execution_count": 80,
   "metadata": {},
   "outputs": [
    {
     "data": {
      "text/plain": [
       "REGISTRY_ID                   float64\n",
       "FAC_LAT                       float64\n",
       "FAC_LONG                      float64\n",
       "FAC_INSPECTION_COUNT            int64\n",
       "FAC_INFORMAL_COUNT              int64\n",
       "FAC_FORMAL_ACTION_COUNT         int64\n",
       "FAC_PENALTY_COUNT             float64\n",
       "FAC_QTRS_WITH_NC              float64\n",
       "FAC_3YR_COMPLIANCE_HISTORY     object\n",
       "dtype: object"
      ]
     },
     "execution_count": 80,
     "metadata": {},
     "output_type": "execute_result"
    }
   ],
   "source": [
    "# what's going on with the 3-year compliance history column?\n",
    "\n",
    "clean_data.dtypes"
   ]
  },
  {
   "cell_type": "code",
   "execution_count": 81,
   "metadata": {},
   "outputs": [
    {
     "name": "stdout",
     "output_type": "stream",
     "text": [
      "UVVVS_VVSVVV\n"
     ]
    },
    {
     "data": {
      "text/plain": [
       "str"
      ]
     },
     "execution_count": 81,
     "metadata": {},
     "output_type": "execute_result"
    }
   ],
   "source": [
    "print(clean_data.iloc[0][\"FAC_3YR_COMPLIANCE_HISTORY\"])\n",
    "type(clean_data.iloc[0][\"FAC_3YR_COMPLIANCE_HISTORY\"])"
   ]
  },
  {
   "cell_type": "code",
   "execution_count": 82,
   "metadata": {},
   "outputs": [
    {
     "data": {
      "text/plain": [
       "True"
      ]
     },
     "execution_count": 82,
     "metadata": {},
     "output_type": "execute_result"
    }
   ],
   "source": [
    "# re \"order equals the priority...\" – check that all vals in this column are the same length\n",
    "\n",
    "length_check = clean_data[\"FAC_3YR_COMPLIANCE_HISTORY\"].str.len() == 12\n",
    "length_check.all()"
   ]
  },
  {
   "cell_type": "code",
   "execution_count": 83,
   "metadata": {},
   "outputs": [
    {
     "data": {
      "text/plain": [
       "1          UVVVS_VVSVVV\n",
       "15         _V___VVVVVV_\n",
       "28         __________V_\n",
       "52         UUUVV_VVVVVV\n",
       "56         ___________V\n",
       "               ...     \n",
       "2254663    VUUUUUUUUUU_\n",
       "2254668    __V______VV_\n",
       "2254674    V___________\n",
       "2254683    SSSSSSSSSSSS\n",
       "2254690    _U_VSSSSSSS_\n",
       "Name: FAC_3YR_COMPLIANCE_HISTORY, Length: 166954, dtype: object"
      ]
     },
     "execution_count": 83,
     "metadata": {},
     "output_type": "execute_result"
    }
   ],
   "source": [
    "clean_data[\"FAC_3YR_COMPLIANCE_HISTORY\"]"
   ]
  },
  {
   "cell_type": "code",
   "execution_count": 84,
   "metadata": {},
   "outputs": [],
   "source": [
    "# codify types of noncompliance into their own columns\n",
    "\n",
    "counted_data = clean_data.copy()\n",
    "\n",
    "counted_data[\"VIOLATIONS_COUNT\"] = clean_data[\"FAC_3YR_COMPLIANCE_HISTORY\"].str.count('V')\n",
    "counted_data[\"SERIOUS_VIOLATIONS_COUNT\"] = clean_data[\"FAC_3YR_COMPLIANCE_HISTORY\"].str.count('S')\n",
    "counted_data[\"UNKNOWN_COUNT\"] = clean_data[\"FAC_3YR_COMPLIANCE_HISTORY\"].str.count('U')\n",
    "\n",
    "# clean_data.iloc[0][\"FAC_3YR_COMPLIANCE_HISTORY\"].split('_')"
   ]
  },
  {
   "cell_type": "code",
   "execution_count": 85,
   "metadata": {},
   "outputs": [
    {
     "data": {
      "text/html": [
       "<div>\n",
       "<style scoped>\n",
       "    .dataframe tbody tr th:only-of-type {\n",
       "        vertical-align: middle;\n",
       "    }\n",
       "\n",
       "    .dataframe tbody tr th {\n",
       "        vertical-align: top;\n",
       "    }\n",
       "\n",
       "    .dataframe thead th {\n",
       "        text-align: right;\n",
       "    }\n",
       "</style>\n",
       "<table border=\"1\" class=\"dataframe\">\n",
       "  <thead>\n",
       "    <tr style=\"text-align: right;\">\n",
       "      <th></th>\n",
       "      <th>REGISTRY_ID</th>\n",
       "      <th>FAC_LAT</th>\n",
       "      <th>FAC_LONG</th>\n",
       "      <th>FAC_INSPECTION_COUNT</th>\n",
       "      <th>FAC_INFORMAL_COUNT</th>\n",
       "      <th>FAC_FORMAL_ACTION_COUNT</th>\n",
       "      <th>FAC_PENALTY_COUNT</th>\n",
       "      <th>FAC_QTRS_WITH_NC</th>\n",
       "      <th>FAC_3YR_COMPLIANCE_HISTORY</th>\n",
       "      <th>VIOLATIONS_COUNT</th>\n",
       "      <th>SERIOUS_VIOLATIONS_COUNT</th>\n",
       "      <th>UNKNOWN_COUNT</th>\n",
       "    </tr>\n",
       "  </thead>\n",
       "  <tbody>\n",
       "    <tr>\n",
       "      <th>1</th>\n",
       "      <td>1.100643e+11</td>\n",
       "      <td>38.476060</td>\n",
       "      <td>-91.387974</td>\n",
       "      <td>0</td>\n",
       "      <td>0</td>\n",
       "      <td>0</td>\n",
       "      <td>NaN</td>\n",
       "      <td>10.0</td>\n",
       "      <td>UVVVS_VVSVVV</td>\n",
       "      <td>8</td>\n",
       "      <td>2</td>\n",
       "      <td>1</td>\n",
       "    </tr>\n",
       "    <tr>\n",
       "      <th>15</th>\n",
       "      <td>1.100100e+11</td>\n",
       "      <td>40.806111</td>\n",
       "      <td>-94.354722</td>\n",
       "      <td>0</td>\n",
       "      <td>0</td>\n",
       "      <td>0</td>\n",
       "      <td>NaN</td>\n",
       "      <td>7.0</td>\n",
       "      <td>_V___VVVVVV_</td>\n",
       "      <td>7</td>\n",
       "      <td>0</td>\n",
       "      <td>0</td>\n",
       "    </tr>\n",
       "    <tr>\n",
       "      <th>28</th>\n",
       "      <td>1.100067e+11</td>\n",
       "      <td>38.762985</td>\n",
       "      <td>-93.544405</td>\n",
       "      <td>0</td>\n",
       "      <td>0</td>\n",
       "      <td>0</td>\n",
       "      <td>NaN</td>\n",
       "      <td>1.0</td>\n",
       "      <td>__________V_</td>\n",
       "      <td>1</td>\n",
       "      <td>0</td>\n",
       "      <td>0</td>\n",
       "    </tr>\n",
       "    <tr>\n",
       "      <th>52</th>\n",
       "      <td>1.100054e+11</td>\n",
       "      <td>47.960000</td>\n",
       "      <td>-124.391944</td>\n",
       "      <td>1</td>\n",
       "      <td>0</td>\n",
       "      <td>0</td>\n",
       "      <td>NaN</td>\n",
       "      <td>8.0</td>\n",
       "      <td>UUUVV_VVVVVV</td>\n",
       "      <td>8</td>\n",
       "      <td>0</td>\n",
       "      <td>3</td>\n",
       "    </tr>\n",
       "    <tr>\n",
       "      <th>56</th>\n",
       "      <td>1.100706e+11</td>\n",
       "      <td>27.122555</td>\n",
       "      <td>-80.236136</td>\n",
       "      <td>1</td>\n",
       "      <td>0</td>\n",
       "      <td>0</td>\n",
       "      <td>NaN</td>\n",
       "      <td>1.0</td>\n",
       "      <td>___________V</td>\n",
       "      <td>1</td>\n",
       "      <td>0</td>\n",
       "      <td>0</td>\n",
       "    </tr>\n",
       "  </tbody>\n",
       "</table>\n",
       "</div>"
      ],
      "text/plain": [
       "     REGISTRY_ID    FAC_LAT    FAC_LONG  FAC_INSPECTION_COUNT  \\\n",
       "1   1.100643e+11  38.476060  -91.387974                     0   \n",
       "15  1.100100e+11  40.806111  -94.354722                     0   \n",
       "28  1.100067e+11  38.762985  -93.544405                     0   \n",
       "52  1.100054e+11  47.960000 -124.391944                     1   \n",
       "56  1.100706e+11  27.122555  -80.236136                     1   \n",
       "\n",
       "    FAC_INFORMAL_COUNT  FAC_FORMAL_ACTION_COUNT  FAC_PENALTY_COUNT  \\\n",
       "1                    0                        0                NaN   \n",
       "15                   0                        0                NaN   \n",
       "28                   0                        0                NaN   \n",
       "52                   0                        0                NaN   \n",
       "56                   0                        0                NaN   \n",
       "\n",
       "    FAC_QTRS_WITH_NC FAC_3YR_COMPLIANCE_HISTORY  VIOLATIONS_COUNT  \\\n",
       "1               10.0               UVVVS_VVSVVV                 8   \n",
       "15               7.0               _V___VVVVVV_                 7   \n",
       "28               1.0               __________V_                 1   \n",
       "52               8.0               UUUVV_VVVVVV                 8   \n",
       "56               1.0               ___________V                 1   \n",
       "\n",
       "    SERIOUS_VIOLATIONS_COUNT  UNKNOWN_COUNT  \n",
       "1                          2              1  \n",
       "15                         0              0  \n",
       "28                         0              0  \n",
       "52                         0              3  \n",
       "56                         0              0  "
      ]
     },
     "execution_count": 85,
     "metadata": {},
     "output_type": "execute_result"
    }
   ],
   "source": [
    "counted_data.head()"
   ]
  },
  {
   "cell_type": "code",
   "execution_count": 86,
   "metadata": {},
   "outputs": [
    {
     "data": {
      "image/png": "[encoded data removed]",
      "text/plain": [
       "<Figure size 432x288 with 1 Axes>"
      ]
     },
     "metadata": {
      "needs_background": "light"
     },
     "output_type": "display_data"
    }
   ],
   "source": [
    "plt.hist(counted_data[\"SERIOUS_VIOLATIONS_COUNT\"], bins=12)\n",
    "plt.title(\"Serious Emissions Violations of American Facilities\")\n",
    "plt.xlabel(\"Quarters (of last 12) in Serious Violation\")\n",
    "plt.ylabel(\"Number of Facilities\")\n",
    "plt.xlim(0, 12)\n",
    "plt.grid()"
   ]
  },
  {
   "cell_type": "code",
   "execution_count": 87,
   "metadata": {},
   "outputs": [
    {
     "data": {
      "image/png": "[encoded data removed]",
      "text/plain": [
       "<Figure size 432x288 with 1 Axes>"
      ]
     },
     "metadata": {
      "needs_background": "light"
     },
     "output_type": "display_data"
    }
   ],
   "source": [
    "plt.hist(counted_data[\"VIOLATIONS_COUNT\"], bins=12)\n",
    "plt.title(\"Emissions Violations (Excluding Serious Violations) of American Facilities\")\n",
    "plt.xlabel(\"Quarters (of last 12) in Violation (Excluding Serious Violations)\")\n",
    "plt.ylabel(\"Number of Facilities\")\n",
    "plt.xlim(0, 12)\n",
    "plt.grid()"
   ]
  },
  {
   "cell_type": "code",
   "execution_count": 88,
   "metadata": {},
   "outputs": [
    {
     "data": {
      "image/png": "[encoded data removed]",
      "text/plain": [
       "<Figure size 432x288 with 1 Axes>"
      ]
     },
     "metadata": {
      "needs_background": "light"
     },
     "output_type": "display_data"
    }
   ],
   "source": [
    "plt.hist(counted_data[\"VIOLATIONS_COUNT\"] + counted_data[\"SERIOUS_VIOLATIONS_COUNT\"], bins=11)\n",
    "plt.title(\"Emissions Violations (Including Serious Violations) of American Facilities\")\n",
    "plt.xlabel(\"Quarters (of last 12) in Violation\")\n",
    "plt.ylabel(\"Number of Facilities\")\n",
    "plt.xlim(0, 12)\n",
    "plt.grid()"
   ]
  },
  {
   "cell_type": "markdown",
   "metadata": {},
   "source": [
    "## Let's start to explore enforcement"
   ]
  },
  {
   "cell_type": "code",
   "execution_count": 89,
   "metadata": {},
   "outputs": [
    {
     "data": {
      "text/html": [
       "<div>\n",
       "<style scoped>\n",
       "    .dataframe tbody tr th:only-of-type {\n",
       "        vertical-align: middle;\n",
       "    }\n",
       "\n",
       "    .dataframe tbody tr th {\n",
       "        vertical-align: top;\n",
       "    }\n",
       "\n",
       "    .dataframe thead th {\n",
       "        text-align: right;\n",
       "    }\n",
       "</style>\n",
       "<table border=\"1\" class=\"dataframe\">\n",
       "  <thead>\n",
       "    <tr style=\"text-align: right;\">\n",
       "      <th></th>\n",
       "      <th>REGISTRY_ID</th>\n",
       "      <th>FAC_LAT</th>\n",
       "      <th>FAC_LONG</th>\n",
       "      <th>FAC_INSPECTION_COUNT</th>\n",
       "      <th>FAC_INFORMAL_COUNT</th>\n",
       "      <th>FAC_FORMAL_ACTION_COUNT</th>\n",
       "      <th>FAC_PENALTY_COUNT</th>\n",
       "      <th>FAC_QTRS_WITH_NC</th>\n",
       "    </tr>\n",
       "  </thead>\n",
       "  <tbody>\n",
       "    <tr>\n",
       "      <th>count</th>\n",
       "      <td>1.613070e+05</td>\n",
       "      <td>165661.000000</td>\n",
       "      <td>165661.000000</td>\n",
       "      <td>166954.000000</td>\n",
       "      <td>166954.000000</td>\n",
       "      <td>166954.000000</td>\n",
       "      <td>9816.000000</td>\n",
       "      <td>166954.000000</td>\n",
       "    </tr>\n",
       "    <tr>\n",
       "      <th>mean</th>\n",
       "      <td>1.100343e+11</td>\n",
       "      <td>38.957013</td>\n",
       "      <td>-91.220175</td>\n",
       "      <td>1.163177</td>\n",
       "      <td>4.136894</td>\n",
       "      <td>0.337806</td>\n",
       "      <td>1.830277</td>\n",
       "      <td>5.674557</td>\n",
       "    </tr>\n",
       "    <tr>\n",
       "      <th>std</th>\n",
       "      <td>2.424543e+07</td>\n",
       "      <td>6.035889</td>\n",
       "      <td>17.388487</td>\n",
       "      <td>3.199499</td>\n",
       "      <td>13.064365</td>\n",
       "      <td>2.686901</td>\n",
       "      <td>4.292196</td>\n",
       "      <td>3.819690</td>\n",
       "    </tr>\n",
       "    <tr>\n",
       "      <th>min</th>\n",
       "      <td>1.100003e+11</td>\n",
       "      <td>-14.340056</td>\n",
       "      <td>-177.894500</td>\n",
       "      <td>0.000000</td>\n",
       "      <td>0.000000</td>\n",
       "      <td>0.000000</td>\n",
       "      <td>1.000000</td>\n",
       "      <td>1.000000</td>\n",
       "    </tr>\n",
       "    <tr>\n",
       "      <th>25%</th>\n",
       "      <td>1.100110e+11</td>\n",
       "      <td>35.390934</td>\n",
       "      <td>-97.311859</td>\n",
       "      <td>0.000000</td>\n",
       "      <td>0.000000</td>\n",
       "      <td>0.000000</td>\n",
       "      <td>1.000000</td>\n",
       "      <td>2.000000</td>\n",
       "    </tr>\n",
       "    <tr>\n",
       "      <th>50%</th>\n",
       "      <td>1.100385e+11</td>\n",
       "      <td>39.665545</td>\n",
       "      <td>-87.087936</td>\n",
       "      <td>0.000000</td>\n",
       "      <td>1.000000</td>\n",
       "      <td>0.000000</td>\n",
       "      <td>1.000000</td>\n",
       "      <td>5.000000</td>\n",
       "    </tr>\n",
       "    <tr>\n",
       "      <th>75%</th>\n",
       "      <td>1.100529e+11</td>\n",
       "      <td>42.118515</td>\n",
       "      <td>-80.012092</td>\n",
       "      <td>1.000000</td>\n",
       "      <td>3.000000</td>\n",
       "      <td>0.000000</td>\n",
       "      <td>2.000000</td>\n",
       "      <td>9.000000</td>\n",
       "    </tr>\n",
       "    <tr>\n",
       "      <th>max</th>\n",
       "      <td>1.100707e+11</td>\n",
       "      <td>71.575210</td>\n",
       "      <td>178.338813</td>\n",
       "      <td>436.000000</td>\n",
       "      <td>743.000000</td>\n",
       "      <td>529.000000</td>\n",
       "      <td>131.000000</td>\n",
       "      <td>12.000000</td>\n",
       "    </tr>\n",
       "  </tbody>\n",
       "</table>\n",
       "</div>"
      ],
      "text/plain": [
       "        REGISTRY_ID        FAC_LAT       FAC_LONG  FAC_INSPECTION_COUNT  \\\n",
       "count  1.613070e+05  165661.000000  165661.000000         166954.000000   \n",
       "mean   1.100343e+11      38.957013     -91.220175              1.163177   \n",
       "std    2.424543e+07       6.035889      17.388487              3.199499   \n",
       "min    1.100003e+11     -14.340056    -177.894500              0.000000   \n",
       "25%    1.100110e+11      35.390934     -97.311859              0.000000   \n",
       "50%    1.100385e+11      39.665545     -87.087936              0.000000   \n",
       "75%    1.100529e+11      42.118515     -80.012092              1.000000   \n",
       "max    1.100707e+11      71.575210     178.338813            436.000000   \n",
       "\n",
       "       FAC_INFORMAL_COUNT  FAC_FORMAL_ACTION_COUNT  FAC_PENALTY_COUNT  \\\n",
       "count       166954.000000            166954.000000        9816.000000   \n",
       "mean             4.136894                 0.337806           1.830277   \n",
       "std             13.064365                 2.686901           4.292196   \n",
       "min              0.000000                 0.000000           1.000000   \n",
       "25%              0.000000                 0.000000           1.000000   \n",
       "50%              1.000000                 0.000000           1.000000   \n",
       "75%              3.000000                 0.000000           2.000000   \n",
       "max            743.000000               529.000000         131.000000   \n",
       "\n",
       "       FAC_QTRS_WITH_NC  \n",
       "count     166954.000000  \n",
       "mean           5.674557  \n",
       "std            3.819690  \n",
       "min            1.000000  \n",
       "25%            2.000000  \n",
       "50%            5.000000  \n",
       "75%            9.000000  \n",
       "max           12.000000  "
      ]
     },
     "execution_count": 89,
     "metadata": {},
     "output_type": "execute_result"
    }
   ],
   "source": [
    "clean_data.describe()"
   ]
  },
  {
   "cell_type": "code",
   "execution_count": 100,
   "metadata": {},
   "outputs": [
    {
     "data": {
      "text/plain": [
       "Text(0, 0.5, 'Formal Actions in Preceding 5 Years')"
      ]
     },
     "execution_count": 100,
     "metadata": {},
     "output_type": "execute_result"
    },
    {
     "data": {
      "image/png": "[encoded data removed]",
      "text/plain": [
       "<Figure size 432x288 with 1 Axes>"
      ]
     },
     "metadata": {
      "needs_background": "light"
     },
     "output_type": "display_data"
    }
   ],
   "source": [
    "plt.scatter(counted_data[\"FAC_QTRS_WITH_NC\"], counted_data[\"FAC_FORMAL_ACTION_COUNT\"])\n",
    "plt.title(\"Formal Enforcement vs. Noncompliance\")\n",
    "plt.xlabel(\"Preceding 12 Qtrs with Noncompliance\")\n",
    "plt.ylabel(\"Formal Actions in Preceding 5 Years\")"
   ]
  },
  {
   "cell_type": "code",
   "execution_count": 103,
   "metadata": {},
   "outputs": [
    {
     "data": {
      "text/plain": [
       "Text(0, 0.5, 'Formal Actions in Preceding 5 Years')"
      ]
     },
     "execution_count": 103,
     "metadata": {},
     "output_type": "execute_result"
    },
    {
     "data": {
      "image/png": "[encoded data removed]",
      "text/plain": [
       "<Figure size 432x288 with 1 Axes>"
      ]
     },
     "metadata": {
      "needs_background": "light"
     },
     "output_type": "display_data"
    }
   ],
   "source": [
    "plt.scatter(counted_data[\"SERIOUS_VIOLATIONS_COUNT\"], counted_data[\"FAC_FORMAL_ACTION_COUNT\"])\n",
    "plt.title(\"Formal Enforcement vs. Serious Violations\")\n",
    "plt.xlabel(\"Preceding 12 Qtrs in Serious Violation\")\n",
    "plt.ylabel(\"Formal Actions in Preceding 5 Years\")"
   ]
  },
  {
   "cell_type": "code",
   "execution_count": 111,
   "metadata": {},
   "outputs": [
    {
     "data": {
      "text/html": [
       "<div>\n",
       "<style scoped>\n",
       "    .dataframe tbody tr th:only-of-type {\n",
       "        vertical-align: middle;\n",
       "    }\n",
       "\n",
       "    .dataframe tbody tr th {\n",
       "        vertical-align: top;\n",
       "    }\n",
       "\n",
       "    .dataframe thead th {\n",
       "        text-align: right;\n",
       "    }\n",
       "</style>\n",
       "<table border=\"1\" class=\"dataframe\">\n",
       "  <thead>\n",
       "    <tr style=\"text-align: right;\">\n",
       "      <th></th>\n",
       "      <th>REGISTRY_ID</th>\n",
       "      <th>FAC_LAT</th>\n",
       "      <th>FAC_LONG</th>\n",
       "      <th>FAC_INSPECTION_COUNT</th>\n",
       "      <th>FAC_INFORMAL_COUNT</th>\n",
       "      <th>FAC_FORMAL_ACTION_COUNT</th>\n",
       "      <th>FAC_PENALTY_COUNT</th>\n",
       "      <th>FAC_QTRS_WITH_NC</th>\n",
       "      <th>VIOLATIONS_COUNT</th>\n",
       "      <th>SERIOUS_VIOLATIONS_COUNT</th>\n",
       "      <th>UNKNOWN_COUNT</th>\n",
       "    </tr>\n",
       "  </thead>\n",
       "  <tbody>\n",
       "    <tr>\n",
       "      <th>REGISTRY_ID</th>\n",
       "      <td>NaN</td>\n",
       "      <td>NaN</td>\n",
       "      <td>NaN</td>\n",
       "      <td>NaN</td>\n",
       "      <td>NaN</td>\n",
       "      <td>NaN</td>\n",
       "      <td>NaN</td>\n",
       "      <td>NaN</td>\n",
       "      <td>NaN</td>\n",
       "      <td>NaN</td>\n",
       "      <td>NaN</td>\n",
       "    </tr>\n",
       "    <tr>\n",
       "      <th>FAC_LAT</th>\n",
       "      <td>NaN</td>\n",
       "      <td>NaN</td>\n",
       "      <td>NaN</td>\n",
       "      <td>NaN</td>\n",
       "      <td>NaN</td>\n",
       "      <td>NaN</td>\n",
       "      <td>NaN</td>\n",
       "      <td>NaN</td>\n",
       "      <td>NaN</td>\n",
       "      <td>NaN</td>\n",
       "      <td>NaN</td>\n",
       "    </tr>\n",
       "    <tr>\n",
       "      <th>FAC_LONG</th>\n",
       "      <td>NaN</td>\n",
       "      <td>NaN</td>\n",
       "      <td>NaN</td>\n",
       "      <td>NaN</td>\n",
       "      <td>NaN</td>\n",
       "      <td>NaN</td>\n",
       "      <td>NaN</td>\n",
       "      <td>NaN</td>\n",
       "      <td>NaN</td>\n",
       "      <td>NaN</td>\n",
       "      <td>NaN</td>\n",
       "    </tr>\n",
       "    <tr>\n",
       "      <th>FAC_INSPECTION_COUNT</th>\n",
       "      <td>NaN</td>\n",
       "      <td>NaN</td>\n",
       "      <td>NaN</td>\n",
       "      <td>NaN</td>\n",
       "      <td>NaN</td>\n",
       "      <td>NaN</td>\n",
       "      <td>NaN</td>\n",
       "      <td>NaN</td>\n",
       "      <td>NaN</td>\n",
       "      <td>NaN</td>\n",
       "      <td>NaN</td>\n",
       "    </tr>\n",
       "    <tr>\n",
       "      <th>FAC_INFORMAL_COUNT</th>\n",
       "      <td>NaN</td>\n",
       "      <td>NaN</td>\n",
       "      <td>NaN</td>\n",
       "      <td>NaN</td>\n",
       "      <td>NaN</td>\n",
       "      <td>NaN</td>\n",
       "      <td>NaN</td>\n",
       "      <td>NaN</td>\n",
       "      <td>NaN</td>\n",
       "      <td>NaN</td>\n",
       "      <td>NaN</td>\n",
       "    </tr>\n",
       "    <tr>\n",
       "      <th>FAC_FORMAL_ACTION_COUNT</th>\n",
       "      <td>NaN</td>\n",
       "      <td>NaN</td>\n",
       "      <td>NaN</td>\n",
       "      <td>NaN</td>\n",
       "      <td>NaN</td>\n",
       "      <td>NaN</td>\n",
       "      <td>0.968793</td>\n",
       "      <td>NaN</td>\n",
       "      <td>NaN</td>\n",
       "      <td>NaN</td>\n",
       "      <td>NaN</td>\n",
       "    </tr>\n",
       "    <tr>\n",
       "      <th>FAC_PENALTY_COUNT</th>\n",
       "      <td>NaN</td>\n",
       "      <td>NaN</td>\n",
       "      <td>NaN</td>\n",
       "      <td>NaN</td>\n",
       "      <td>NaN</td>\n",
       "      <td>0.968793</td>\n",
       "      <td>NaN</td>\n",
       "      <td>NaN</td>\n",
       "      <td>NaN</td>\n",
       "      <td>NaN</td>\n",
       "      <td>NaN</td>\n",
       "    </tr>\n",
       "    <tr>\n",
       "      <th>FAC_QTRS_WITH_NC</th>\n",
       "      <td>NaN</td>\n",
       "      <td>NaN</td>\n",
       "      <td>NaN</td>\n",
       "      <td>NaN</td>\n",
       "      <td>NaN</td>\n",
       "      <td>NaN</td>\n",
       "      <td>NaN</td>\n",
       "      <td>NaN</td>\n",
       "      <td>0.776812</td>\n",
       "      <td>NaN</td>\n",
       "      <td>NaN</td>\n",
       "    </tr>\n",
       "    <tr>\n",
       "      <th>VIOLATIONS_COUNT</th>\n",
       "      <td>NaN</td>\n",
       "      <td>NaN</td>\n",
       "      <td>NaN</td>\n",
       "      <td>NaN</td>\n",
       "      <td>NaN</td>\n",
       "      <td>NaN</td>\n",
       "      <td>NaN</td>\n",
       "      <td>0.776812</td>\n",
       "      <td>NaN</td>\n",
       "      <td>NaN</td>\n",
       "      <td>NaN</td>\n",
       "    </tr>\n",
       "    <tr>\n",
       "      <th>SERIOUS_VIOLATIONS_COUNT</th>\n",
       "      <td>NaN</td>\n",
       "      <td>NaN</td>\n",
       "      <td>NaN</td>\n",
       "      <td>NaN</td>\n",
       "      <td>NaN</td>\n",
       "      <td>NaN</td>\n",
       "      <td>NaN</td>\n",
       "      <td>NaN</td>\n",
       "      <td>NaN</td>\n",
       "      <td>NaN</td>\n",
       "      <td>NaN</td>\n",
       "    </tr>\n",
       "    <tr>\n",
       "      <th>UNKNOWN_COUNT</th>\n",
       "      <td>NaN</td>\n",
       "      <td>NaN</td>\n",
       "      <td>NaN</td>\n",
       "      <td>NaN</td>\n",
       "      <td>NaN</td>\n",
       "      <td>NaN</td>\n",
       "      <td>NaN</td>\n",
       "      <td>NaN</td>\n",
       "      <td>NaN</td>\n",
       "      <td>NaN</td>\n",
       "      <td>NaN</td>\n",
       "    </tr>\n",
       "  </tbody>\n",
       "</table>\n",
       "</div>"
      ],
      "text/plain": [
       "                          REGISTRY_ID  FAC_LAT  FAC_LONG  \\\n",
       "REGISTRY_ID                       NaN      NaN       NaN   \n",
       "FAC_LAT                           NaN      NaN       NaN   \n",
       "FAC_LONG                          NaN      NaN       NaN   \n",
       "FAC_INSPECTION_COUNT              NaN      NaN       NaN   \n",
       "FAC_INFORMAL_COUNT                NaN      NaN       NaN   \n",
       "FAC_FORMAL_ACTION_COUNT           NaN      NaN       NaN   \n",
       "FAC_PENALTY_COUNT                 NaN      NaN       NaN   \n",
       "FAC_QTRS_WITH_NC                  NaN      NaN       NaN   \n",
       "VIOLATIONS_COUNT                  NaN      NaN       NaN   \n",
       "SERIOUS_VIOLATIONS_COUNT          NaN      NaN       NaN   \n",
       "UNKNOWN_COUNT                     NaN      NaN       NaN   \n",
       "\n",
       "                          FAC_INSPECTION_COUNT  FAC_INFORMAL_COUNT  \\\n",
       "REGISTRY_ID                                NaN                 NaN   \n",
       "FAC_LAT                                    NaN                 NaN   \n",
       "FAC_LONG                                   NaN                 NaN   \n",
       "FAC_INSPECTION_COUNT                       NaN                 NaN   \n",
       "FAC_INFORMAL_COUNT                         NaN                 NaN   \n",
       "FAC_FORMAL_ACTION_COUNT                    NaN                 NaN   \n",
       "FAC_PENALTY_COUNT                          NaN                 NaN   \n",
       "FAC_QTRS_WITH_NC                           NaN                 NaN   \n",
       "VIOLATIONS_COUNT                           NaN                 NaN   \n",
       "SERIOUS_VIOLATIONS_COUNT                   NaN                 NaN   \n",
       "UNKNOWN_COUNT                              NaN                 NaN   \n",
       "\n",
       "                          FAC_FORMAL_ACTION_COUNT  FAC_PENALTY_COUNT  \\\n",
       "REGISTRY_ID                                   NaN                NaN   \n",
       "FAC_LAT                                       NaN                NaN   \n",
       "FAC_LONG                                      NaN                NaN   \n",
       "FAC_INSPECTION_COUNT                          NaN                NaN   \n",
       "FAC_INFORMAL_COUNT                            NaN                NaN   \n",
       "FAC_FORMAL_ACTION_COUNT                       NaN           0.968793   \n",
       "FAC_PENALTY_COUNT                        0.968793                NaN   \n",
       "FAC_QTRS_WITH_NC                              NaN                NaN   \n",
       "VIOLATIONS_COUNT                              NaN                NaN   \n",
       "SERIOUS_VIOLATIONS_COUNT                      NaN                NaN   \n",
       "UNKNOWN_COUNT                                 NaN                NaN   \n",
       "\n",
       "                          FAC_QTRS_WITH_NC  VIOLATIONS_COUNT  \\\n",
       "REGISTRY_ID                            NaN               NaN   \n",
       "FAC_LAT                                NaN               NaN   \n",
       "FAC_LONG                               NaN               NaN   \n",
       "FAC_INSPECTION_COUNT                   NaN               NaN   \n",
       "FAC_INFORMAL_COUNT                     NaN               NaN   \n",
       "FAC_FORMAL_ACTION_COUNT                NaN               NaN   \n",
       "FAC_PENALTY_COUNT                      NaN               NaN   \n",
       "FAC_QTRS_WITH_NC                       NaN          0.776812   \n",
       "VIOLATIONS_COUNT                  0.776812               NaN   \n",
       "SERIOUS_VIOLATIONS_COUNT               NaN               NaN   \n",
       "UNKNOWN_COUNT                          NaN               NaN   \n",
       "\n",
       "                          SERIOUS_VIOLATIONS_COUNT  UNKNOWN_COUNT  \n",
       "REGISTRY_ID                                    NaN            NaN  \n",
       "FAC_LAT                                        NaN            NaN  \n",
       "FAC_LONG                                       NaN            NaN  \n",
       "FAC_INSPECTION_COUNT                           NaN            NaN  \n",
       "FAC_INFORMAL_COUNT                             NaN            NaN  \n",
       "FAC_FORMAL_ACTION_COUNT                        NaN            NaN  \n",
       "FAC_PENALTY_COUNT                              NaN            NaN  \n",
       "FAC_QTRS_WITH_NC                               NaN            NaN  \n",
       "VIOLATIONS_COUNT                               NaN            NaN  \n",
       "SERIOUS_VIOLATIONS_COUNT                       NaN            NaN  \n",
       "UNKNOWN_COUNT                                  NaN            NaN  "
      ]
     },
     "execution_count": 111,
     "metadata": {},
     "output_type": "execute_result"
    }
   ],
   "source": [
    "# enforcement doesn't seem all that related to violations– what *is* correlated?\n",
    "\n",
    "correlations = counted_data.corr()\n",
    "correlations[(correlations < 1) & (correlations > .7)]"
   ]
  },
  {
   "cell_type": "code",
   "execution_count": null,
   "metadata": {},
   "outputs": [],
   "source": []
  }
 ],
 "metadata": {
  "kernelspec": {
   "display_name": "Python 3",
   "language": "python",
   "name": "python3"
  },
  "language_info": {
   "codemirror_mode": {
    "name": "ipython",
    "version": 3
   },
   "file_extension": ".py",
   "mimetype": "text/x-python",
   "name": "python",
   "nbconvert_exporter": "python",
   "pygments_lexer": "ipython3",
   "version": "3.7.4"
  }
 },
 "nbformat": 4,
 "nbformat_minor": 2
}
