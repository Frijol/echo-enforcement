{
 "cells": [
  {
   "cell_type": "markdown",
   "metadata": {},
   "source": [
    "# ECHO Data Project\n",
    "\n",
    "**Question: is EPA enforcement evenhanded?**\n",
    "\n",
    "## What data is needed?\n",
    "* 12-quarter violation history across facilities (can discard those with no violations)\n",
    "* Recent enforcement (Y/N)\n",
    "* Other information for further exploration?\n",
    "\n",
    "## Finding the data\n",
    "* EPA's ECHO (Enforcement and Compliance History Online) portal ([Data Downloads page](https://echo.epa.gov/tools/data-downloads)): ECHO Exporter zip file\n",
    "* `echo_exporter_columns_07242019.xlsx` gives data element descriptions for the larger echo_data_exporter"
   ]
  },
  {
   "cell_type": "code",
   "execution_count": 1,
   "metadata": {},
   "outputs": [],
   "source": [
    "# import libraries\n",
    "\n",
    "import pandas as pd\n",
    "import numpy as np\n",
    "import matplotlib.pyplot as plt\n",
    "%matplotlib inline"
   ]
  },
  {
   "cell_type": "code",
   "execution_count": 2,
   "metadata": {},
   "outputs": [
    {
     "data": {
      "text/html": [
       "<div>\n",
       "<style scoped>\n",
       "    .dataframe tbody tr th:only-of-type {\n",
       "        vertical-align: middle;\n",
       "    }\n",
       "\n",
       "    .dataframe tbody tr th {\n",
       "        vertical-align: top;\n",
       "    }\n",
       "\n",
       "    .dataframe thead th {\n",
       "        text-align: right;\n",
       "    }\n",
       "</style>\n",
       "<table border=\"1\" class=\"dataframe\">\n",
       "  <thead>\n",
       "    <tr style=\"text-align: right;\">\n",
       "      <th></th>\n",
       "      <th>FAC_INSPECTION_COUNT</th>\n",
       "      <th>FAC_INFORMAL_COUNT</th>\n",
       "      <th>FAC_FORMAL_ACTION_COUNT</th>\n",
       "      <th>FAC_QTRS_WITH_NC</th>\n",
       "      <th>FAC_3YR_COMPLIANCE_HISTORY</th>\n",
       "    </tr>\n",
       "  </thead>\n",
       "  <tbody>\n",
       "    <tr>\n",
       "      <th>0</th>\n",
       "      <td>0</td>\n",
       "      <td>0</td>\n",
       "      <td>0</td>\n",
       "      <td>0.0</td>\n",
       "      <td>____________</td>\n",
       "    </tr>\n",
       "    <tr>\n",
       "      <th>1</th>\n",
       "      <td>0</td>\n",
       "      <td>0</td>\n",
       "      <td>0</td>\n",
       "      <td>10.0</td>\n",
       "      <td>UVVVS_VVSVVV</td>\n",
       "    </tr>\n",
       "    <tr>\n",
       "      <th>2</th>\n",
       "      <td>0</td>\n",
       "      <td>0</td>\n",
       "      <td>0</td>\n",
       "      <td>0.0</td>\n",
       "      <td>____________</td>\n",
       "    </tr>\n",
       "    <tr>\n",
       "      <th>3</th>\n",
       "      <td>0</td>\n",
       "      <td>0</td>\n",
       "      <td>0</td>\n",
       "      <td>0.0</td>\n",
       "      <td>____________</td>\n",
       "    </tr>\n",
       "    <tr>\n",
       "      <th>4</th>\n",
       "      <td>1</td>\n",
       "      <td>0</td>\n",
       "      <td>0</td>\n",
       "      <td>0.0</td>\n",
       "      <td>____________</td>\n",
       "    </tr>\n",
       "  </tbody>\n",
       "</table>\n",
       "</div>"
      ],
      "text/plain": [
       "   FAC_INSPECTION_COUNT  FAC_INFORMAL_COUNT  FAC_FORMAL_ACTION_COUNT  \\\n",
       "0                     0                   0                        0   \n",
       "1                     0                   0                        0   \n",
       "2                     0                   0                        0   \n",
       "3                     0                   0                        0   \n",
       "4                     1                   0                        0   \n",
       "\n",
       "   FAC_QTRS_WITH_NC FAC_3YR_COMPLIANCE_HISTORY  \n",
       "0               0.0               ____________  \n",
       "1              10.0               UVVVS_VVSVVV  \n",
       "2               0.0               ____________  \n",
       "3               0.0               ____________  \n",
       "4               0.0               ____________  "
      ]
     },
     "execution_count": 2,
     "metadata": {},
     "output_type": "execute_result"
    }
   ],
   "source": [
    "# get the data\n",
    "\n",
    "my_cols = [\"FAC_QTRS_WITH_NC\", \"FAC_3YR_COMPLIANCE_HISTORY\", \"FAC_INSPECTION_COUNT\", \"FAC_INFORMAL_COUNT\", \"FAC_FORMAL_ACTION_COUNT\"]\n",
    "echo_data = pd.read_csv(\"data/ECHO_EXPORTER.csv\", usecols = my_cols)\n",
    "echo_data.head()"
   ]
  },
  {
   "cell_type": "code",
   "execution_count": 3,
   "metadata": {},
   "outputs": [
    {
     "data": {
      "text/plain": [
       "(2254693, 5)"
      ]
     },
     "execution_count": 3,
     "metadata": {},
     "output_type": "execute_result"
    }
   ],
   "source": [
    "echo_data.shape"
   ]
  },
  {
   "cell_type": "code",
   "execution_count": 4,
   "metadata": {},
   "outputs": [
    {
     "data": {
      "text/plain": [
       "(166954, 5)"
      ]
     },
     "execution_count": 4,
     "metadata": {},
     "output_type": "execute_result"
    }
   ],
   "source": [
    "# clean the data\n",
    "\n",
    "# we are only interested in facilities with violations\n",
    "violators = echo_data[\"FAC_QTRS_WITH_NC\"] > 0\n",
    "\n",
    "clean_data = echo_data[violators]\n",
    "clean_data.shape"
   ]
  },
  {
   "cell_type": "code",
   "execution_count": 5,
   "metadata": {},
   "outputs": [
    {
     "data": {
      "text/plain": [
       "(166954, 5)"
      ]
     },
     "execution_count": 5,
     "metadata": {},
     "output_type": "execute_result"
    }
   ],
   "source": [
    "# are there null vals we need to worry about?\n",
    "\n",
    "clean_data.dropna().shape"
   ]
  },
  {
   "cell_type": "code",
   "execution_count": 6,
   "metadata": {},
   "outputs": [
    {
     "data": {
      "text/plain": [
       "False"
      ]
     },
     "execution_count": 6,
     "metadata": {},
     "output_type": "execute_result"
    }
   ],
   "source": [
    "clean_data[\"FAC_QTRS_WITH_NC\"].isnull().any()"
   ]
  },
  {
   "cell_type": "markdown",
   "metadata": {},
   "source": [
    "## Exploring the data"
   ]
  },
  {
   "cell_type": "code",
   "execution_count": 7,
   "metadata": {},
   "outputs": [
    {
     "data": {
      "text/plain": [
       "count    166954.000000\n",
       "mean          5.674557\n",
       "std           3.819690\n",
       "min           1.000000\n",
       "25%           2.000000\n",
       "50%           5.000000\n",
       "75%           9.000000\n",
       "max          12.000000\n",
       "Name: FAC_QTRS_WITH_NC, dtype: float64"
      ]
     },
     "execution_count": 7,
     "metadata": {},
     "output_type": "execute_result"
    }
   ],
   "source": [
    "clean_data[\"FAC_QTRS_WITH_NC\"].describe()"
   ]
  },
  {
   "cell_type": "code",
   "execution_count": 8,
   "metadata": {},
   "outputs": [
    {
     "name": "stderr",
     "output_type": "stream",
     "text": [
      "/Library/Frameworks/Python.framework/Versions/3.7/lib/python3.7/site-packages/numpy/lib/histograms.py:829: RuntimeWarning: invalid value encountered in greater_equal\n",
      "  keep = (tmp_a >= first_edge)\n",
      "/Library/Frameworks/Python.framework/Versions/3.7/lib/python3.7/site-packages/numpy/lib/histograms.py:830: RuntimeWarning: invalid value encountered in less_equal\n",
      "  keep &= (tmp_a <= last_edge)\n"
     ]
    },
    {
     "data": {
      "image/png": "[encoded data removed]",
      "text/plain": [
       "<Figure size 432x288 with 1 Axes>"
      ]
     },
     "metadata": {
      "needs_background": "light"
     },
     "output_type": "display_data"
    }
   ],
   "source": [
    "# sounds like a bell curve, let's get a visual\n",
    "\n",
    "plt.hist(echo_data[\"FAC_QTRS_WITH_NC\"]/.12, bins=12)\n",
    "plt.title(\"American Facilities Violating EPA Emissions Permits\")\n",
    "plt.xlabel(\"% of Last Three Years in Emissions Noncompliance\")\n",
    "plt.ylabel(\"Number of Facilities\")\n",
    "plt.xlim(0, 100)\n",
    "plt.ylim(0, 35000)\n",
    "plt.grid()"
   ]
  },
  {
   "cell_type": "code",
   "execution_count": 9,
   "metadata": {},
   "outputs": [
    {
     "data": {
      "image/png": "[encoded data removed]",
      "text/plain": [
       "<Figure size 432x288 with 1 Axes>"
      ]
     },
     "metadata": {
      "needs_background": "light"
     },
     "output_type": "display_data"
    }
   ],
   "source": [
    "# not what I expected at all! How does this compare to the broader set including the non-violators?\n",
    "\n",
    "plt.hist(echo_data[\"FAC_QTRS_WITH_NC\"]/.12, bins=12)\n",
    "plt.title(\"EPA Emissions Noncompliance of American Facilities\")\n",
    "plt.xlabel(\"% of Last Three Years in Emissions Noncompliance\")\n",
    "plt.ylabel(\"Number of Facilities\")\n",
    "plt.xlim(0, 100)\n",
    "plt.grid()"
   ]
  },
  {
   "cell_type": "markdown",
   "metadata": {},
   "source": [
    "So, most facilities haven't violated at all in the last 12 quarters. Among those who have, the number of violations is outlier-heavy. Let's dig a little deeper."
   ]
  },
  {
   "cell_type": "markdown",
   "metadata": {},
   "source": [
    "## Let's take a closer look at the compliance history column\n",
    "\n",
    "It's a string, which can be decoded according to a key provided in the echo_exporter spreadsheet:\n",
    "\n",
    "> Lists 12 quarters (3-month periods) with the following values:\n",
    "> \n",
    "> * `S`= SNC/HPV/Serious Violation\n",
    "> * `V`= violation/noncompliance\n",
    "> * `U`= unknown\n",
    "> * `_`= no violation identified\n",
    "> \n",
    "> Order equals the priority if multiple permits are present"
   ]
  },
  {
   "cell_type": "code",
   "execution_count": 10,
   "metadata": {},
   "outputs": [
    {
     "data": {
      "text/plain": [
       "FAC_INSPECTION_COUNT            int64\n",
       "FAC_INFORMAL_COUNT              int64\n",
       "FAC_FORMAL_ACTION_COUNT         int64\n",
       "FAC_QTRS_WITH_NC              float64\n",
       "FAC_3YR_COMPLIANCE_HISTORY     object\n",
       "dtype: object"
      ]
     },
     "execution_count": 10,
     "metadata": {},
     "output_type": "execute_result"
    }
   ],
   "source": [
    "# what's going on with the 3-year compliance history column?\n",
    "\n",
    "clean_data.dtypes"
   ]
  },
  {
   "cell_type": "code",
   "execution_count": 11,
   "metadata": {},
   "outputs": [
    {
     "name": "stdout",
     "output_type": "stream",
     "text": [
      "UVVVS_VVSVVV\n"
     ]
    },
    {
     "data": {
      "text/plain": [
       "str"
      ]
     },
     "execution_count": 11,
     "metadata": {},
     "output_type": "execute_result"
    }
   ],
   "source": [
    "print(clean_data.iloc[0][\"FAC_3YR_COMPLIANCE_HISTORY\"])\n",
    "type(clean_data.iloc[0][\"FAC_3YR_COMPLIANCE_HISTORY\"])"
   ]
  },
  {
   "cell_type": "code",
   "execution_count": 12,
   "metadata": {},
   "outputs": [
    {
     "data": {
      "text/plain": [
       "True"
      ]
     },
     "execution_count": 12,
     "metadata": {},
     "output_type": "execute_result"
    }
   ],
   "source": [
    "# re \"order equals the priority...\" – check that all vals in this column are the same length\n",
    "\n",
    "length_check = clean_data[\"FAC_3YR_COMPLIANCE_HISTORY\"].str.len() == 12\n",
    "length_check.all()"
   ]
  },
  {
   "cell_type": "code",
   "execution_count": 13,
   "metadata": {},
   "outputs": [
    {
     "data": {
      "text/plain": [
       "1          UVVVS_VVSVVV\n",
       "15         _V___VVVVVV_\n",
       "28         __________V_\n",
       "52         UUUVV_VVVVVV\n",
       "56         ___________V\n",
       "               ...     \n",
       "2254663    VUUUUUUUUUU_\n",
       "2254668    __V______VV_\n",
       "2254674    V___________\n",
       "2254683    SSSSSSSSSSSS\n",
       "2254690    _U_VSSSSSSS_\n",
       "Name: FAC_3YR_COMPLIANCE_HISTORY, Length: 166954, dtype: object"
      ]
     },
     "execution_count": 13,
     "metadata": {},
     "output_type": "execute_result"
    }
   ],
   "source": [
    "clean_data[\"FAC_3YR_COMPLIANCE_HISTORY\"]"
   ]
  },
  {
   "cell_type": "code",
   "execution_count": 14,
   "metadata": {},
   "outputs": [],
   "source": [
    "# codify types of noncompliance into their own columns\n",
    "\n",
    "counted_data = clean_data.copy()\n",
    "\n",
    "counted_data[\"VIOLATIONS_COUNT\"] = clean_data[\"FAC_3YR_COMPLIANCE_HISTORY\"].str.count('V') + clean_data[\"FAC_3YR_COMPLIANCE_HISTORY\"].str.count('S')\n",
    "counted_data[\"SERIOUS_VIOLATIONS_COUNT\"] = clean_data[\"FAC_3YR_COMPLIANCE_HISTORY\"].str.count('S')\n",
    "counted_data[\"UNKNOWN_COUNT\"] = clean_data[\"FAC_3YR_COMPLIANCE_HISTORY\"].str.count('U')\n",
    "\n",
    "# clean_data.iloc[0][\"FAC_3YR_COMPLIANCE_HISTORY\"].split('_')"
   ]
  },
  {
   "cell_type": "code",
   "execution_count": 15,
   "metadata": {},
   "outputs": [
    {
     "data": {
      "text/html": [
       "<div>\n",
       "<style scoped>\n",
       "    .dataframe tbody tr th:only-of-type {\n",
       "        vertical-align: middle;\n",
       "    }\n",
       "\n",
       "    .dataframe tbody tr th {\n",
       "        vertical-align: top;\n",
       "    }\n",
       "\n",
       "    .dataframe thead th {\n",
       "        text-align: right;\n",
       "    }\n",
       "</style>\n",
       "<table border=\"1\" class=\"dataframe\">\n",
       "  <thead>\n",
       "    <tr style=\"text-align: right;\">\n",
       "      <th></th>\n",
       "      <th>FAC_INSPECTION_COUNT</th>\n",
       "      <th>FAC_INFORMAL_COUNT</th>\n",
       "      <th>FAC_FORMAL_ACTION_COUNT</th>\n",
       "      <th>FAC_QTRS_WITH_NC</th>\n",
       "      <th>FAC_3YR_COMPLIANCE_HISTORY</th>\n",
       "      <th>VIOLATIONS_COUNT</th>\n",
       "      <th>SERIOUS_VIOLATIONS_COUNT</th>\n",
       "      <th>UNKNOWN_COUNT</th>\n",
       "    </tr>\n",
       "  </thead>\n",
       "  <tbody>\n",
       "    <tr>\n",
       "      <th>1</th>\n",
       "      <td>0</td>\n",
       "      <td>0</td>\n",
       "      <td>0</td>\n",
       "      <td>10.0</td>\n",
       "      <td>UVVVS_VVSVVV</td>\n",
       "      <td>10</td>\n",
       "      <td>2</td>\n",
       "      <td>1</td>\n",
       "    </tr>\n",
       "    <tr>\n",
       "      <th>15</th>\n",
       "      <td>0</td>\n",
       "      <td>0</td>\n",
       "      <td>0</td>\n",
       "      <td>7.0</td>\n",
       "      <td>_V___VVVVVV_</td>\n",
       "      <td>7</td>\n",
       "      <td>0</td>\n",
       "      <td>0</td>\n",
       "    </tr>\n",
       "    <tr>\n",
       "      <th>28</th>\n",
       "      <td>0</td>\n",
       "      <td>0</td>\n",
       "      <td>0</td>\n",
       "      <td>1.0</td>\n",
       "      <td>__________V_</td>\n",
       "      <td>1</td>\n",
       "      <td>0</td>\n",
       "      <td>0</td>\n",
       "    </tr>\n",
       "    <tr>\n",
       "      <th>52</th>\n",
       "      <td>1</td>\n",
       "      <td>0</td>\n",
       "      <td>0</td>\n",
       "      <td>8.0</td>\n",
       "      <td>UUUVV_VVVVVV</td>\n",
       "      <td>8</td>\n",
       "      <td>0</td>\n",
       "      <td>3</td>\n",
       "    </tr>\n",
       "    <tr>\n",
       "      <th>56</th>\n",
       "      <td>1</td>\n",
       "      <td>0</td>\n",
       "      <td>0</td>\n",
       "      <td>1.0</td>\n",
       "      <td>___________V</td>\n",
       "      <td>1</td>\n",
       "      <td>0</td>\n",
       "      <td>0</td>\n",
       "    </tr>\n",
       "  </tbody>\n",
       "</table>\n",
       "</div>"
      ],
      "text/plain": [
       "    FAC_INSPECTION_COUNT  FAC_INFORMAL_COUNT  FAC_FORMAL_ACTION_COUNT  \\\n",
       "1                      0                   0                        0   \n",
       "15                     0                   0                        0   \n",
       "28                     0                   0                        0   \n",
       "52                     1                   0                        0   \n",
       "56                     1                   0                        0   \n",
       "\n",
       "    FAC_QTRS_WITH_NC FAC_3YR_COMPLIANCE_HISTORY  VIOLATIONS_COUNT  \\\n",
       "1               10.0               UVVVS_VVSVVV                10   \n",
       "15               7.0               _V___VVVVVV_                 7   \n",
       "28               1.0               __________V_                 1   \n",
       "52               8.0               UUUVV_VVVVVV                 8   \n",
       "56               1.0               ___________V                 1   \n",
       "\n",
       "    SERIOUS_VIOLATIONS_COUNT  UNKNOWN_COUNT  \n",
       "1                          2              1  \n",
       "15                         0              0  \n",
       "28                         0              0  \n",
       "52                         0              3  \n",
       "56                         0              0  "
      ]
     },
     "execution_count": 15,
     "metadata": {},
     "output_type": "execute_result"
    }
   ],
   "source": [
    "counted_data.head()"
   ]
  },
  {
   "cell_type": "code",
   "execution_count": 16,
   "metadata": {},
   "outputs": [
    {
     "data": {
      "image/png": "[encoded data removed]",
      "text/plain": [
       "<Figure size 432x288 with 1 Axes>"
      ]
     },
     "metadata": {
      "needs_background": "light"
     },
     "output_type": "display_data"
    }
   ],
   "source": [
    "plt.hist(counted_data[\"VIOLATIONS_COUNT\"]/.12, bins=12, color=\"orange\")\n",
    "plt.title(\"Emissions Violations (Including Serious Violations) of American Facilities\")\n",
    "plt.xlabel(\"% of Last Three Years with Emissions Violations\")\n",
    "plt.ylabel(\"Number of Facilities\")\n",
    "plt.xlim(0, 100)\n",
    "plt.ylim(0, 120000)\n",
    "plt.grid()\n"
   ]
  },
  {
   "cell_type": "code",
   "execution_count": 17,
   "metadata": {},
   "outputs": [
    {
     "data": {
      "image/png": "[encoded data removed]",
      "text/plain": [
       "<Figure size 432x288 with 1 Axes>"
      ]
     },
     "metadata": {
      "needs_background": "light"
     },
     "output_type": "display_data"
    }
   ],
   "source": [
    "plt.hist(counted_data[\"SERIOUS_VIOLATIONS_COUNT\"]/.12, bins=12, color=\"red\")\n",
    "plt.title(\"Serious Emissions Violations of American Facilities\")\n",
    "plt.xlabel(\"% of Last Three Years in Emissions Noncompliance\")\n",
    "plt.ylabel(\"Number of Facilities\")\n",
    "plt.xlim(0, 100)\n",
    "plt.ylim(0, 120000)\n",
    "plt.grid()"
   ]
  },
  {
   "cell_type": "code",
   "execution_count": 18,
   "metadata": {},
   "outputs": [
    {
     "data": {
      "image/png": "[encoded data removed]",
      "text/plain": [
       "<Figure size 432x288 with 1 Axes>"
      ]
     },
     "metadata": {
      "needs_background": "light"
     },
     "output_type": "display_data"
    }
   ],
   "source": [
    "plt.hist(counted_data[\"UNKNOWN_COUNT\"]/.12, bins=12)\n",
    "plt.title(\"Unreported Emissions of American Facilities\")\n",
    "plt.xlabel(\"% of Last Three Years with Unknown Emissions\")\n",
    "plt.ylabel(\"Number of Facilities\")\n",
    "plt.xlim(0, 100)\n",
    "plt.ylim(0, 120000)\n",
    "plt.grid()"
   ]
  },
  {
   "cell_type": "code",
   "execution_count": 19,
   "metadata": {},
   "outputs": [
    {
     "data": {
      "text/plain": [
       "Text(0.5, 1.0, 'Types of Noncompliance (Total Quarters)')"
      ]
     },
     "execution_count": 19,
     "metadata": {},
     "output_type": "execute_result"
    },
    {
     "data": {
      "image/png": "[encoded data removed]",
      "text/plain": [
       "<Figure size 432x288 with 1 Axes>"
      ]
     },
     "metadata": {},
     "output_type": "display_data"
    }
   ],
   "source": [
    "plt.pie([counted_data[\"UNKNOWN_COUNT\"].sum(), counted_data[\"VIOLATIONS_COUNT\"].sum()], labels=[\"Unknown\", \"Violation (Including Serious Violation)\"], colors=[\"blue\", \"orange\"])\n",
    "plt.title(\"Types of Noncompliance (Total Quarters)\")"
   ]
  },
  {
   "cell_type": "markdown",
   "metadata": {},
   "source": [
    "## Let's start to explore enforcement"
   ]
  },
  {
   "cell_type": "code",
   "execution_count": 20,
   "metadata": {},
   "outputs": [
    {
     "data": {
      "text/html": [
       "<div>\n",
       "<style scoped>\n",
       "    .dataframe tbody tr th:only-of-type {\n",
       "        vertical-align: middle;\n",
       "    }\n",
       "\n",
       "    .dataframe tbody tr th {\n",
       "        vertical-align: top;\n",
       "    }\n",
       "\n",
       "    .dataframe thead th {\n",
       "        text-align: right;\n",
       "    }\n",
       "</style>\n",
       "<table border=\"1\" class=\"dataframe\">\n",
       "  <thead>\n",
       "    <tr style=\"text-align: right;\">\n",
       "      <th></th>\n",
       "      <th>FAC_INSPECTION_COUNT</th>\n",
       "      <th>FAC_INFORMAL_COUNT</th>\n",
       "      <th>FAC_FORMAL_ACTION_COUNT</th>\n",
       "      <th>FAC_QTRS_WITH_NC</th>\n",
       "      <th>FAC_3YR_COMPLIANCE_HISTORY</th>\n",
       "      <th>VIOLATIONS_COUNT</th>\n",
       "      <th>SERIOUS_VIOLATIONS_COUNT</th>\n",
       "      <th>UNKNOWN_COUNT</th>\n",
       "      <th>ENFORCEMENT_ACTIONS_COUNT</th>\n",
       "      <th>ENFORCEMENT_AND_INSPECTION</th>\n",
       "    </tr>\n",
       "  </thead>\n",
       "  <tbody>\n",
       "    <tr>\n",
       "      <th>1</th>\n",
       "      <td>0</td>\n",
       "      <td>0</td>\n",
       "      <td>0</td>\n",
       "      <td>10.0</td>\n",
       "      <td>UVVVS_VVSVVV</td>\n",
       "      <td>10</td>\n",
       "      <td>2</td>\n",
       "      <td>1</td>\n",
       "      <td>0</td>\n",
       "      <td>0</td>\n",
       "    </tr>\n",
       "    <tr>\n",
       "      <th>15</th>\n",
       "      <td>0</td>\n",
       "      <td>0</td>\n",
       "      <td>0</td>\n",
       "      <td>7.0</td>\n",
       "      <td>_V___VVVVVV_</td>\n",
       "      <td>7</td>\n",
       "      <td>0</td>\n",
       "      <td>0</td>\n",
       "      <td>0</td>\n",
       "      <td>0</td>\n",
       "    </tr>\n",
       "    <tr>\n",
       "      <th>28</th>\n",
       "      <td>0</td>\n",
       "      <td>0</td>\n",
       "      <td>0</td>\n",
       "      <td>1.0</td>\n",
       "      <td>__________V_</td>\n",
       "      <td>1</td>\n",
       "      <td>0</td>\n",
       "      <td>0</td>\n",
       "      <td>0</td>\n",
       "      <td>0</td>\n",
       "    </tr>\n",
       "    <tr>\n",
       "      <th>52</th>\n",
       "      <td>1</td>\n",
       "      <td>0</td>\n",
       "      <td>0</td>\n",
       "      <td>8.0</td>\n",
       "      <td>UUUVV_VVVVVV</td>\n",
       "      <td>8</td>\n",
       "      <td>0</td>\n",
       "      <td>3</td>\n",
       "      <td>0</td>\n",
       "      <td>1</td>\n",
       "    </tr>\n",
       "    <tr>\n",
       "      <th>56</th>\n",
       "      <td>1</td>\n",
       "      <td>0</td>\n",
       "      <td>0</td>\n",
       "      <td>1.0</td>\n",
       "      <td>___________V</td>\n",
       "      <td>1</td>\n",
       "      <td>0</td>\n",
       "      <td>0</td>\n",
       "      <td>0</td>\n",
       "      <td>1</td>\n",
       "    </tr>\n",
       "  </tbody>\n",
       "</table>\n",
       "</div>"
      ],
      "text/plain": [
       "    FAC_INSPECTION_COUNT  FAC_INFORMAL_COUNT  FAC_FORMAL_ACTION_COUNT  \\\n",
       "1                      0                   0                        0   \n",
       "15                     0                   0                        0   \n",
       "28                     0                   0                        0   \n",
       "52                     1                   0                        0   \n",
       "56                     1                   0                        0   \n",
       "\n",
       "    FAC_QTRS_WITH_NC FAC_3YR_COMPLIANCE_HISTORY  VIOLATIONS_COUNT  \\\n",
       "1               10.0               UVVVS_VVSVVV                10   \n",
       "15               7.0               _V___VVVVVV_                 7   \n",
       "28               1.0               __________V_                 1   \n",
       "52               8.0               UUUVV_VVVVVV                 8   \n",
       "56               1.0               ___________V                 1   \n",
       "\n",
       "    SERIOUS_VIOLATIONS_COUNT  UNKNOWN_COUNT  ENFORCEMENT_ACTIONS_COUNT  \\\n",
       "1                          2              1                          0   \n",
       "15                         0              0                          0   \n",
       "28                         0              0                          0   \n",
       "52                         0              3                          0   \n",
       "56                         0              0                          0   \n",
       "\n",
       "    ENFORCEMENT_AND_INSPECTION  \n",
       "1                            0  \n",
       "15                           0  \n",
       "28                           0  \n",
       "52                           1  \n",
       "56                           1  "
      ]
     },
     "execution_count": 20,
     "metadata": {},
     "output_type": "execute_result"
    }
   ],
   "source": [
    "# let's add up all of the enforcement actions\n",
    "\n",
    "more_counting = counted_data.copy()\n",
    "more_counting[\"ENFORCEMENT_ACTIONS_COUNT\"] = counted_data[\"FAC_INFORMAL_COUNT\"] + counted_data[\"FAC_FORMAL_ACTION_COUNT\"]\n",
    "more_counting[\"ENFORCEMENT_AND_INSPECTION\"] = counted_data[\"FAC_INFORMAL_COUNT\"] + counted_data[\"FAC_FORMAL_ACTION_COUNT\"] + counted_data[\"FAC_INSPECTION_COUNT\"]\n",
    "more_counting.head()"
   ]
  },
  {
   "cell_type": "code",
   "execution_count": 21,
   "metadata": {},
   "outputs": [
    {
     "data": {
      "text/html": [
       "<div>\n",
       "<style scoped>\n",
       "    .dataframe tbody tr th:only-of-type {\n",
       "        vertical-align: middle;\n",
       "    }\n",
       "\n",
       "    .dataframe tbody tr th {\n",
       "        vertical-align: top;\n",
       "    }\n",
       "\n",
       "    .dataframe thead th {\n",
       "        text-align: right;\n",
       "    }\n",
       "</style>\n",
       "<table border=\"1\" class=\"dataframe\">\n",
       "  <thead>\n",
       "    <tr style=\"text-align: right;\">\n",
       "      <th></th>\n",
       "      <th>FAC_INSPECTION_COUNT</th>\n",
       "      <th>FAC_INFORMAL_COUNT</th>\n",
       "      <th>FAC_FORMAL_ACTION_COUNT</th>\n",
       "      <th>FAC_QTRS_WITH_NC</th>\n",
       "      <th>VIOLATIONS_COUNT</th>\n",
       "      <th>SERIOUS_VIOLATIONS_COUNT</th>\n",
       "      <th>UNKNOWN_COUNT</th>\n",
       "      <th>ENFORCEMENT_ACTIONS_COUNT</th>\n",
       "      <th>ENFORCEMENT_AND_INSPECTION</th>\n",
       "    </tr>\n",
       "  </thead>\n",
       "  <tbody>\n",
       "    <tr>\n",
       "      <th>count</th>\n",
       "      <td>166954.000000</td>\n",
       "      <td>166954.000000</td>\n",
       "      <td>166954.000000</td>\n",
       "      <td>166954.000000</td>\n",
       "      <td>166954.000000</td>\n",
       "      <td>166954.000000</td>\n",
       "      <td>166954.000000</td>\n",
       "      <td>166954.000000</td>\n",
       "      <td>166954.000000</td>\n",
       "    </tr>\n",
       "    <tr>\n",
       "      <th>mean</th>\n",
       "      <td>1.163177</td>\n",
       "      <td>4.136894</td>\n",
       "      <td>0.337806</td>\n",
       "      <td>5.674557</td>\n",
       "      <td>5.674557</td>\n",
       "      <td>1.300879</td>\n",
       "      <td>0.567246</td>\n",
       "      <td>4.474700</td>\n",
       "      <td>5.637876</td>\n",
       "    </tr>\n",
       "    <tr>\n",
       "      <th>std</th>\n",
       "      <td>3.199499</td>\n",
       "      <td>13.064365</td>\n",
       "      <td>2.686901</td>\n",
       "      <td>3.819690</td>\n",
       "      <td>3.819690</td>\n",
       "      <td>2.548549</td>\n",
       "      <td>0.911893</td>\n",
       "      <td>13.995945</td>\n",
       "      <td>14.279214</td>\n",
       "    </tr>\n",
       "    <tr>\n",
       "      <th>min</th>\n",
       "      <td>0.000000</td>\n",
       "      <td>0.000000</td>\n",
       "      <td>0.000000</td>\n",
       "      <td>1.000000</td>\n",
       "      <td>1.000000</td>\n",
       "      <td>0.000000</td>\n",
       "      <td>0.000000</td>\n",
       "      <td>0.000000</td>\n",
       "      <td>0.000000</td>\n",
       "    </tr>\n",
       "    <tr>\n",
       "      <th>25%</th>\n",
       "      <td>0.000000</td>\n",
       "      <td>0.000000</td>\n",
       "      <td>0.000000</td>\n",
       "      <td>2.000000</td>\n",
       "      <td>2.000000</td>\n",
       "      <td>0.000000</td>\n",
       "      <td>0.000000</td>\n",
       "      <td>0.000000</td>\n",
       "      <td>1.000000</td>\n",
       "    </tr>\n",
       "    <tr>\n",
       "      <th>50%</th>\n",
       "      <td>0.000000</td>\n",
       "      <td>1.000000</td>\n",
       "      <td>0.000000</td>\n",
       "      <td>5.000000</td>\n",
       "      <td>5.000000</td>\n",
       "      <td>0.000000</td>\n",
       "      <td>0.000000</td>\n",
       "      <td>1.000000</td>\n",
       "      <td>2.000000</td>\n",
       "    </tr>\n",
       "    <tr>\n",
       "      <th>75%</th>\n",
       "      <td>1.000000</td>\n",
       "      <td>3.000000</td>\n",
       "      <td>0.000000</td>\n",
       "      <td>9.000000</td>\n",
       "      <td>9.000000</td>\n",
       "      <td>1.000000</td>\n",
       "      <td>1.000000</td>\n",
       "      <td>4.000000</td>\n",
       "      <td>6.000000</td>\n",
       "    </tr>\n",
       "    <tr>\n",
       "      <th>max</th>\n",
       "      <td>436.000000</td>\n",
       "      <td>743.000000</td>\n",
       "      <td>529.000000</td>\n",
       "      <td>12.000000</td>\n",
       "      <td>12.000000</td>\n",
       "      <td>12.000000</td>\n",
       "      <td>11.000000</td>\n",
       "      <td>904.000000</td>\n",
       "      <td>904.000000</td>\n",
       "    </tr>\n",
       "  </tbody>\n",
       "</table>\n",
       "</div>"
      ],
      "text/plain": [
       "       FAC_INSPECTION_COUNT  FAC_INFORMAL_COUNT  FAC_FORMAL_ACTION_COUNT  \\\n",
       "count         166954.000000       166954.000000            166954.000000   \n",
       "mean               1.163177            4.136894                 0.337806   \n",
       "std                3.199499           13.064365                 2.686901   \n",
       "min                0.000000            0.000000                 0.000000   \n",
       "25%                0.000000            0.000000                 0.000000   \n",
       "50%                0.000000            1.000000                 0.000000   \n",
       "75%                1.000000            3.000000                 0.000000   \n",
       "max              436.000000          743.000000               529.000000   \n",
       "\n",
       "       FAC_QTRS_WITH_NC  VIOLATIONS_COUNT  SERIOUS_VIOLATIONS_COUNT  \\\n",
       "count     166954.000000     166954.000000             166954.000000   \n",
       "mean           5.674557          5.674557                  1.300879   \n",
       "std            3.819690          3.819690                  2.548549   \n",
       "min            1.000000          1.000000                  0.000000   \n",
       "25%            2.000000          2.000000                  0.000000   \n",
       "50%            5.000000          5.000000                  0.000000   \n",
       "75%            9.000000          9.000000                  1.000000   \n",
       "max           12.000000         12.000000                 12.000000   \n",
       "\n",
       "       UNKNOWN_COUNT  ENFORCEMENT_ACTIONS_COUNT  ENFORCEMENT_AND_INSPECTION  \n",
       "count  166954.000000              166954.000000               166954.000000  \n",
       "mean        0.567246                   4.474700                    5.637876  \n",
       "std         0.911893                  13.995945                   14.279214  \n",
       "min         0.000000                   0.000000                    0.000000  \n",
       "25%         0.000000                   0.000000                    1.000000  \n",
       "50%         0.000000                   1.000000                    2.000000  \n",
       "75%         1.000000                   4.000000                    6.000000  \n",
       "max        11.000000                 904.000000                  904.000000  "
      ]
     },
     "execution_count": 21,
     "metadata": {},
     "output_type": "execute_result"
    }
   ],
   "source": [
    "more_counting.describe()"
   ]
  },
  {
   "cell_type": "markdown",
   "metadata": {},
   "source": [
    "### Enforcement vs Violation"
   ]
  },
  {
   "cell_type": "code",
   "execution_count": 22,
   "metadata": {},
   "outputs": [
    {
     "data": {
      "text/plain": [
       "<matplotlib.collections.PathCollection at 0x11317bc50>"
      ]
     },
     "execution_count": 22,
     "metadata": {},
     "output_type": "execute_result"
    },
    {
     "data": {
      "image/png": "[encoded data removed]",
      "text/plain": [
       "<Figure size 432x288 with 1 Axes>"
      ]
     },
     "metadata": {
      "needs_background": "light"
     },
     "output_type": "display_data"
    }
   ],
   "source": [
    "# define an ideal enforcement line\n",
    "\n",
    "def ideal_line(x):\n",
    "    return x*8\n",
    "\n",
    "x = pd.Series(range(0,100))\n",
    "y = ideal_line(x)\n",
    "\n",
    "plt.scatter(x, y)"
   ]
  },
  {
   "cell_type": "code",
   "execution_count": 23,
   "metadata": {},
   "outputs": [
    {
     "data": {
      "text/plain": [
       "<matplotlib.legend.Legend at 0x113a20f90>"
      ]
     },
     "execution_count": 23,
     "metadata": {},
     "output_type": "execute_result"
    },
    {
     "data": {
      "image/png": "[encoded data removed]",
      "text/plain": [
       "<Figure size 360x288 with 1 Axes>"
      ]
     },
     "metadata": {
      "needs_background": "light"
     },
     "output_type": "display_data"
    }
   ],
   "source": [
    "plt.rcParams[\"figure.figsize\"] = (5, 4)\n",
    "\n",
    "plt.scatter(more_counting[\"VIOLATIONS_COUNT\"]/.12, more_counting[\"ENFORCEMENT_AND_INSPECTION\"], alpha=.4)\n",
    "plt.title(\"Total Enforcement & Inspection vs. Violations\")\n",
    "plt.xlabel(\"% of Last Three Years in Violation of Permit\")\n",
    "plt.ylabel(\"Enforcement Actions and Inspections in Preceding 5 Years\")\n",
    "plt.ylim(0, 1000)\n",
    "plt.xlim(0)\n",
    "plt.grid(axis=\"y\")\n",
    "plt.plot(x, y, color='red')\n",
    "plt.legend(['ideal enforcement–data should cluster around this line', 'actual enforcement'])"
   ]
  },
  {
   "cell_type": "code",
   "execution_count": 24,
   "metadata": {},
   "outputs": [
    {
     "data": {
      "text/plain": [
       "<matplotlib.legend.Legend at 0x113a2f090>"
      ]
     },
     "execution_count": 24,
     "metadata": {},
     "output_type": "execute_result"
    },
    {
     "data": {
      "image/png": "[encoded data removed]",
      "text/plain": [
       "<Figure size 360x288 with 1 Axes>"
      ]
     },
     "metadata": {
      "needs_background": "light"
     },
     "output_type": "display_data"
    }
   ],
   "source": [
    "plt.scatter(more_counting[\"VIOLATIONS_COUNT\"]/.12, more_counting[\"ENFORCEMENT_ACTIONS_COUNT\"], alpha=.4)\n",
    "plt.title(\"Total Enforcement vs. Violations\")\n",
    "plt.xlabel(\"% of Last Three Years in Violation of Permit\")\n",
    "plt.ylabel(\"Enforcement Actions in Preceding 5 Years\")\n",
    "plt.ylim(0, 1000)\n",
    "plt.xlim(0)\n",
    "plt.grid(axis=\"y\")\n",
    "plt.plot(x, y, color='red')\n",
    "plt.legend(['ideal enforcement–data should cluster around this line', 'actual enforcement'])"
   ]
  },
  {
   "cell_type": "code",
   "execution_count": 25,
   "metadata": {},
   "outputs": [
    {
     "data": {
      "text/plain": [
       "<matplotlib.legend.Legend at 0x118234b50>"
      ]
     },
     "execution_count": 25,
     "metadata": {},
     "output_type": "execute_result"
    },
    {
     "data": {
      "image/png": "[encoded data removed]",
      "text/plain": [
       "<Figure size 360x288 with 1 Axes>"
      ]
     },
     "metadata": {
      "needs_background": "light"
     },
     "output_type": "display_data"
    }
   ],
   "source": [
    "plt.scatter(more_counting[\"FAC_QTRS_WITH_NC\"]/.12, more_counting[\"ENFORCEMENT_ACTIONS_COUNT\"], alpha=.4)\n",
    "plt.title(\"Enforcement vs. Noncompliance\")\n",
    "plt.xlabel(\"% of Last Three Years in Violation of Permit\")\n",
    "plt.ylabel(\"Enforcement Actions in Preceding 5 Years\")\n",
    "plt.ylim(0, 1000)\n",
    "plt.xlim(0)\n",
    "plt.grid(axis=\"y\")\n",
    "plt.plot(x, y, color='red')\n",
    "plt.legend(['ideal enforcement–data should cluster around this line', 'actual enforcement'])"
   ]
  },
  {
   "cell_type": "code",
   "execution_count": 26,
   "metadata": {},
   "outputs": [
    {
     "data": {
      "text/plain": [
       "<matplotlib.legend.Legend at 0x1183c6a10>"
      ]
     },
     "execution_count": 26,
     "metadata": {},
     "output_type": "execute_result"
    },
    {
     "data": {
      "image/png": "[encoded data removed]",
      "text/plain": [
       "<Figure size 360x288 with 1 Axes>"
      ]
     },
     "metadata": {
      "needs_background": "light"
     },
     "output_type": "display_data"
    }
   ],
   "source": [
    "plt.scatter(more_counting[\"SERIOUS_VIOLATIONS_COUNT\"]/.12, more_counting[\"ENFORCEMENT_ACTIONS_COUNT\"], alpha=.4)\n",
    "plt.title(\"Enforcement vs. Serious Violations\")\n",
    "plt.xlabel(\"% of Last Three Years in Violation of Permit\")\n",
    "plt.ylabel(\"Enforcement Actions in Preceding 5 Years\")\n",
    "plt.ylim(0, 1000)\n",
    "plt.grid(axis=\"y\")\n",
    "plt.plot(x, y, color='red')\n",
    "plt.legend(['ideal enforcement–data should cluster around this line', 'actual enforcement'])"
   ]
  },
  {
   "cell_type": "code",
   "execution_count": 27,
   "metadata": {},
   "outputs": [
    {
     "data": {
      "text/html": [
       "<div>\n",
       "<style scoped>\n",
       "    .dataframe tbody tr th:only-of-type {\n",
       "        vertical-align: middle;\n",
       "    }\n",
       "\n",
       "    .dataframe tbody tr th {\n",
       "        vertical-align: top;\n",
       "    }\n",
       "\n",
       "    .dataframe thead th {\n",
       "        text-align: right;\n",
       "    }\n",
       "</style>\n",
       "<table border=\"1\" class=\"dataframe\">\n",
       "  <thead>\n",
       "    <tr style=\"text-align: right;\">\n",
       "      <th></th>\n",
       "      <th>Quarters of last 12 in noncompliance (violations or unreported)</th>\n",
       "      <th>Quarters of last 12 in violation (includes serious)</th>\n",
       "      <th>Quarters of last 12 in serious violation</th>\n",
       "      <th>Total enforcement actions and inspections in last 5 years</th>\n",
       "      <th>Total enforcement actions in last 5 years</th>\n",
       "      <th>Inspections in last 5 years</th>\n",
       "      <th>Informal enforcement actions in last 5 years</th>\n",
       "      <th>Formal enforcement actions in last 5 years</th>\n",
       "    </tr>\n",
       "  </thead>\n",
       "  <tbody>\n",
       "    <tr>\n",
       "      <th>Quarters of last 12 in noncompliance (violations or unreported)</th>\n",
       "      <td>NaN</td>\n",
       "      <td>NaN</td>\n",
       "      <td>0.337663</td>\n",
       "      <td>NaN</td>\n",
       "      <td>NaN</td>\n",
       "      <td>NaN</td>\n",
       "      <td>NaN</td>\n",
       "      <td>NaN</td>\n",
       "    </tr>\n",
       "    <tr>\n",
       "      <th>Quarters of last 12 in violation (includes serious)</th>\n",
       "      <td>NaN</td>\n",
       "      <td>NaN</td>\n",
       "      <td>0.337663</td>\n",
       "      <td>NaN</td>\n",
       "      <td>NaN</td>\n",
       "      <td>NaN</td>\n",
       "      <td>NaN</td>\n",
       "      <td>NaN</td>\n",
       "    </tr>\n",
       "    <tr>\n",
       "      <th>Quarters of last 12 in serious violation</th>\n",
       "      <td>0.337663</td>\n",
       "      <td>0.337663</td>\n",
       "      <td>NaN</td>\n",
       "      <td>NaN</td>\n",
       "      <td>NaN</td>\n",
       "      <td>NaN</td>\n",
       "      <td>NaN</td>\n",
       "      <td>NaN</td>\n",
       "    </tr>\n",
       "    <tr>\n",
       "      <th>Total enforcement actions and inspections in last 5 years</th>\n",
       "      <td>NaN</td>\n",
       "      <td>NaN</td>\n",
       "      <td>NaN</td>\n",
       "      <td>NaN</td>\n",
       "      <td>0.974590</td>\n",
       "      <td>NaN</td>\n",
       "      <td>0.954073</td>\n",
       "      <td>0.437659</td>\n",
       "    </tr>\n",
       "    <tr>\n",
       "      <th>Total enforcement actions in last 5 years</th>\n",
       "      <td>NaN</td>\n",
       "      <td>NaN</td>\n",
       "      <td>NaN</td>\n",
       "      <td>0.974590</td>\n",
       "      <td>NaN</td>\n",
       "      <td>NaN</td>\n",
       "      <td>0.982632</td>\n",
       "      <td>0.431162</td>\n",
       "    </tr>\n",
       "    <tr>\n",
       "      <th>Inspections in last 5 years</th>\n",
       "      <td>NaN</td>\n",
       "      <td>NaN</td>\n",
       "      <td>NaN</td>\n",
       "      <td>NaN</td>\n",
       "      <td>NaN</td>\n",
       "      <td>NaN</td>\n",
       "      <td>NaN</td>\n",
       "      <td>NaN</td>\n",
       "    </tr>\n",
       "    <tr>\n",
       "      <th>Informal enforcement actions in last 5 years</th>\n",
       "      <td>NaN</td>\n",
       "      <td>NaN</td>\n",
       "      <td>NaN</td>\n",
       "      <td>0.954073</td>\n",
       "      <td>0.982632</td>\n",
       "      <td>NaN</td>\n",
       "      <td>NaN</td>\n",
       "      <td>NaN</td>\n",
       "    </tr>\n",
       "    <tr>\n",
       "      <th>Formal enforcement actions in last 5 years</th>\n",
       "      <td>NaN</td>\n",
       "      <td>NaN</td>\n",
       "      <td>NaN</td>\n",
       "      <td>0.437659</td>\n",
       "      <td>0.431162</td>\n",
       "      <td>NaN</td>\n",
       "      <td>NaN</td>\n",
       "      <td>NaN</td>\n",
       "    </tr>\n",
       "  </tbody>\n",
       "</table>\n",
       "</div>"
      ],
      "text/plain": [
       "                                                    Quarters of last 12 in noncompliance (violations or unreported)  \\\n",
       "Quarters of last 12 in noncompliance (violation...                                                NaN                 \n",
       "Quarters of last 12 in violation (includes seri...                                                NaN                 \n",
       "Quarters of last 12 in serious violation                                                     0.337663                 \n",
       "Total enforcement actions and inspections in la...                                                NaN                 \n",
       "Total enforcement actions in last 5 years                                                         NaN                 \n",
       "Inspections in last 5 years                                                                       NaN                 \n",
       "Informal enforcement actions in last 5 years                                                      NaN                 \n",
       "Formal enforcement actions in last 5 years                                                        NaN                 \n",
       "\n",
       "                                                    Quarters of last 12 in violation (includes serious)  \\\n",
       "Quarters of last 12 in noncompliance (violation...                                                NaN     \n",
       "Quarters of last 12 in violation (includes seri...                                                NaN     \n",
       "Quarters of last 12 in serious violation                                                     0.337663     \n",
       "Total enforcement actions and inspections in la...                                                NaN     \n",
       "Total enforcement actions in last 5 years                                                         NaN     \n",
       "Inspections in last 5 years                                                                       NaN     \n",
       "Informal enforcement actions in last 5 years                                                      NaN     \n",
       "Formal enforcement actions in last 5 years                                                        NaN     \n",
       "\n",
       "                                                    Quarters of last 12 in serious violation  \\\n",
       "Quarters of last 12 in noncompliance (violation...                                  0.337663   \n",
       "Quarters of last 12 in violation (includes seri...                                  0.337663   \n",
       "Quarters of last 12 in serious violation                                                 NaN   \n",
       "Total enforcement actions and inspections in la...                                       NaN   \n",
       "Total enforcement actions in last 5 years                                                NaN   \n",
       "Inspections in last 5 years                                                              NaN   \n",
       "Informal enforcement actions in last 5 years                                             NaN   \n",
       "Formal enforcement actions in last 5 years                                               NaN   \n",
       "\n",
       "                                                    Total enforcement actions and inspections in last 5 years  \\\n",
       "Quarters of last 12 in noncompliance (violation...                                                NaN           \n",
       "Quarters of last 12 in violation (includes seri...                                                NaN           \n",
       "Quarters of last 12 in serious violation                                                          NaN           \n",
       "Total enforcement actions and inspections in la...                                                NaN           \n",
       "Total enforcement actions in last 5 years                                                    0.974590           \n",
       "Inspections in last 5 years                                                                       NaN           \n",
       "Informal enforcement actions in last 5 years                                                 0.954073           \n",
       "Formal enforcement actions in last 5 years                                                   0.437659           \n",
       "\n",
       "                                                    Total enforcement actions in last 5 years  \\\n",
       "Quarters of last 12 in noncompliance (violation...                                        NaN   \n",
       "Quarters of last 12 in violation (includes seri...                                        NaN   \n",
       "Quarters of last 12 in serious violation                                                  NaN   \n",
       "Total enforcement actions and inspections in la...                                   0.974590   \n",
       "Total enforcement actions in last 5 years                                                 NaN   \n",
       "Inspections in last 5 years                                                               NaN   \n",
       "Informal enforcement actions in last 5 years                                         0.982632   \n",
       "Formal enforcement actions in last 5 years                                           0.431162   \n",
       "\n",
       "                                                    Inspections in last 5 years  \\\n",
       "Quarters of last 12 in noncompliance (violation...                          NaN   \n",
       "Quarters of last 12 in violation (includes seri...                          NaN   \n",
       "Quarters of last 12 in serious violation                                    NaN   \n",
       "Total enforcement actions and inspections in la...                          NaN   \n",
       "Total enforcement actions in last 5 years                                   NaN   \n",
       "Inspections in last 5 years                                                 NaN   \n",
       "Informal enforcement actions in last 5 years                                NaN   \n",
       "Formal enforcement actions in last 5 years                                  NaN   \n",
       "\n",
       "                                                    Informal enforcement actions in last 5 years  \\\n",
       "Quarters of last 12 in noncompliance (violation...                                           NaN   \n",
       "Quarters of last 12 in violation (includes seri...                                           NaN   \n",
       "Quarters of last 12 in serious violation                                                     NaN   \n",
       "Total enforcement actions and inspections in la...                                      0.954073   \n",
       "Total enforcement actions in last 5 years                                               0.982632   \n",
       "Inspections in last 5 years                                                                  NaN   \n",
       "Informal enforcement actions in last 5 years                                                 NaN   \n",
       "Formal enforcement actions in last 5 years                                                   NaN   \n",
       "\n",
       "                                                    Formal enforcement actions in last 5 years  \n",
       "Quarters of last 12 in noncompliance (violation...                                         NaN  \n",
       "Quarters of last 12 in violation (includes seri...                                         NaN  \n",
       "Quarters of last 12 in serious violation                                                   NaN  \n",
       "Total enforcement actions and inspections in la...                                    0.437659  \n",
       "Total enforcement actions in last 5 years                                             0.431162  \n",
       "Inspections in last 5 years                                                                NaN  \n",
       "Informal enforcement actions in last 5 years                                               NaN  \n",
       "Formal enforcement actions in last 5 years                                                 NaN  "
      ]
     },
     "execution_count": 27,
     "metadata": {},
     "output_type": "execute_result"
    }
   ],
   "source": [
    "# enforcement via formal actions doesn't seem all that related to violations– what *is* correlated?\n",
    "\n",
    "# making the dataframe a bit more elegant\n",
    "\n",
    "more_counting = more_counting.drop(columns=[\"UNKNOWN_COUNT\"])[[\"FAC_QTRS_WITH_NC\", \"VIOLATIONS_COUNT\", \"SERIOUS_VIOLATIONS_COUNT\", \"ENFORCEMENT_AND_INSPECTION\", \"ENFORCEMENT_ACTIONS_COUNT\", \"FAC_INSPECTION_COUNT\", \"FAC_INFORMAL_COUNT\", \"FAC_FORMAL_ACTION_COUNT\"]]\n",
    "nice_titles = more_counting.rename(columns={\"FAC_INSPECTION_COUNT\": \"Inspections in last 5 years\", \"FAC_INFORMAL_COUNT\": \"Informal enforcement actions in last 5 years\", \"FAC_FORMAL_ACTION_COUNT\": \"Formal enforcement actions in last 5 years\", \"FAC_QTRS_WITH_NC\": \"Quarters of last 12 in noncompliance (violations or unreported)\", \"VIOLATIONS_COUNT\": \"Quarters of last 12 in violation (includes serious)\", \"SERIOUS_VIOLATIONS_COUNT\": \"Quarters of last 12 in serious violation\", \"ENFORCEMENT_ACTIONS_COUNT\": \"Total enforcement actions in last 5 years\", \"ENFORCEMENT_AND_INSPECTION\": \"Total enforcement actions and inspections in last 5 years\"})\n",
    "\n",
    "# calculate correlations\n",
    "\n",
    "correlations = nice_titles.corr()\n",
    "\n",
    "# filter so it's (a) not showing columns correlated with themselves and (b) not showing trivial correlations\n",
    "correlations[(correlations < 1) & (abs(correlations) >= .3)]"
   ]
  },
  {
   "cell_type": "markdown",
   "metadata": {},
   "source": [
    "Enforcement through formal actions is correlated to penalties (likely a tautological finding), and number of violations is correlated with quarters with noncompliance (also tautological).\n",
    "\n",
    "**What is more interesting** is that enforcement actions (formal or informal) *are not significantly correlated* with the number of quarters of noncompliance, \"serious\" or not."
   ]
  },
  {
   "cell_type": "code",
   "execution_count": 28,
   "metadata": {},
   "outputs": [
    {
     "data": {
      "text/html": [
       "<style  type=\"text/css\" >\n",
       "    #T_84f30546_1dc4_11ea_9fde_2cf0ee0994aerow0_col0 {\n",
       "            background-color:  #009cff;\n",
       "            color:  black;\n",
       "        }    #T_84f30546_1dc4_11ea_9fde_2cf0ee0994aerow0_col1 {\n",
       "            background-color:  #009cff;\n",
       "            color:  black;\n",
       "        }    #T_84f30546_1dc4_11ea_9fde_2cf0ee0994aerow0_col2 {\n",
       "            background-color:  #bdf4ff;\n",
       "            color:  black;\n",
       "        }    #T_84f30546_1dc4_11ea_9fde_2cf0ee0994aerow0_col3 {\n",
       "            background-color:  white;\n",
       "            color:  black;\n",
       "        }    #T_84f30546_1dc4_11ea_9fde_2cf0ee0994aerow0_col4 {\n",
       "            background-color:  white;\n",
       "            color:  black;\n",
       "        }    #T_84f30546_1dc4_11ea_9fde_2cf0ee0994aerow0_col5 {\n",
       "            background-color:  white;\n",
       "            color:  red;\n",
       "        }    #T_84f30546_1dc4_11ea_9fde_2cf0ee0994aerow0_col6 {\n",
       "            background-color:  white;\n",
       "            color:  black;\n",
       "        }    #T_84f30546_1dc4_11ea_9fde_2cf0ee0994aerow0_col7 {\n",
       "            background-color:  white;\n",
       "            color:  black;\n",
       "        }    #T_84f30546_1dc4_11ea_9fde_2cf0ee0994aerow1_col0 {\n",
       "            background-color:  #009cff;\n",
       "            color:  black;\n",
       "        }    #T_84f30546_1dc4_11ea_9fde_2cf0ee0994aerow1_col1 {\n",
       "            background-color:  #009cff;\n",
       "            color:  black;\n",
       "        }    #T_84f30546_1dc4_11ea_9fde_2cf0ee0994aerow1_col2 {\n",
       "            background-color:  #bdf4ff;\n",
       "            color:  black;\n",
       "        }    #T_84f30546_1dc4_11ea_9fde_2cf0ee0994aerow1_col3 {\n",
       "            background-color:  white;\n",
       "            color:  black;\n",
       "        }    #T_84f30546_1dc4_11ea_9fde_2cf0ee0994aerow1_col4 {\n",
       "            background-color:  white;\n",
       "            color:  black;\n",
       "        }    #T_84f30546_1dc4_11ea_9fde_2cf0ee0994aerow1_col5 {\n",
       "            background-color:  white;\n",
       "            color:  red;\n",
       "        }    #T_84f30546_1dc4_11ea_9fde_2cf0ee0994aerow1_col6 {\n",
       "            background-color:  white;\n",
       "            color:  black;\n",
       "        }    #T_84f30546_1dc4_11ea_9fde_2cf0ee0994aerow1_col7 {\n",
       "            background-color:  white;\n",
       "            color:  black;\n",
       "        }    #T_84f30546_1dc4_11ea_9fde_2cf0ee0994aerow2_col0 {\n",
       "            background-color:  #bdf4ff;\n",
       "            color:  black;\n",
       "        }    #T_84f30546_1dc4_11ea_9fde_2cf0ee0994aerow2_col1 {\n",
       "            background-color:  #bdf4ff;\n",
       "            color:  black;\n",
       "        }    #T_84f30546_1dc4_11ea_9fde_2cf0ee0994aerow2_col2 {\n",
       "            background-color:  #009cff;\n",
       "            color:  black;\n",
       "        }    #T_84f30546_1dc4_11ea_9fde_2cf0ee0994aerow2_col3 {\n",
       "            background-color:  white;\n",
       "            color:  black;\n",
       "        }    #T_84f30546_1dc4_11ea_9fde_2cf0ee0994aerow2_col4 {\n",
       "            background-color:  white;\n",
       "            color:  black;\n",
       "        }    #T_84f30546_1dc4_11ea_9fde_2cf0ee0994aerow2_col5 {\n",
       "            background-color:  white;\n",
       "            color:  black;\n",
       "        }    #T_84f30546_1dc4_11ea_9fde_2cf0ee0994aerow2_col6 {\n",
       "            background-color:  white;\n",
       "            color:  black;\n",
       "        }    #T_84f30546_1dc4_11ea_9fde_2cf0ee0994aerow2_col7 {\n",
       "            background-color:  white;\n",
       "            color:  black;\n",
       "        }    #T_84f30546_1dc4_11ea_9fde_2cf0ee0994aerow3_col0 {\n",
       "            background-color:  white;\n",
       "            color:  black;\n",
       "        }    #T_84f30546_1dc4_11ea_9fde_2cf0ee0994aerow3_col1 {\n",
       "            background-color:  white;\n",
       "            color:  black;\n",
       "        }    #T_84f30546_1dc4_11ea_9fde_2cf0ee0994aerow3_col2 {\n",
       "            background-color:  white;\n",
       "            color:  black;\n",
       "        }    #T_84f30546_1dc4_11ea_9fde_2cf0ee0994aerow3_col3 {\n",
       "            background-color:  #009cff;\n",
       "            color:  black;\n",
       "        }    #T_84f30546_1dc4_11ea_9fde_2cf0ee0994aerow3_col4 {\n",
       "            background-color:  #009cff;\n",
       "            color:  black;\n",
       "        }    #T_84f30546_1dc4_11ea_9fde_2cf0ee0994aerow3_col5 {\n",
       "            background-color:  white;\n",
       "            color:  black;\n",
       "        }    #T_84f30546_1dc4_11ea_9fde_2cf0ee0994aerow3_col6 {\n",
       "            background-color:  #009cff;\n",
       "            color:  black;\n",
       "        }    #T_84f30546_1dc4_11ea_9fde_2cf0ee0994aerow3_col7 {\n",
       "            background-color:  #bdf4ff;\n",
       "            color:  black;\n",
       "        }    #T_84f30546_1dc4_11ea_9fde_2cf0ee0994aerow4_col0 {\n",
       "            background-color:  white;\n",
       "            color:  black;\n",
       "        }    #T_84f30546_1dc4_11ea_9fde_2cf0ee0994aerow4_col1 {\n",
       "            background-color:  white;\n",
       "            color:  black;\n",
       "        }    #T_84f30546_1dc4_11ea_9fde_2cf0ee0994aerow4_col2 {\n",
       "            background-color:  white;\n",
       "            color:  black;\n",
       "        }    #T_84f30546_1dc4_11ea_9fde_2cf0ee0994aerow4_col3 {\n",
       "            background-color:  #009cff;\n",
       "            color:  black;\n",
       "        }    #T_84f30546_1dc4_11ea_9fde_2cf0ee0994aerow4_col4 {\n",
       "            background-color:  #009cff;\n",
       "            color:  black;\n",
       "        }    #T_84f30546_1dc4_11ea_9fde_2cf0ee0994aerow4_col5 {\n",
       "            background-color:  white;\n",
       "            color:  red;\n",
       "        }    #T_84f30546_1dc4_11ea_9fde_2cf0ee0994aerow4_col6 {\n",
       "            background-color:  #009cff;\n",
       "            color:  black;\n",
       "        }    #T_84f30546_1dc4_11ea_9fde_2cf0ee0994aerow4_col7 {\n",
       "            background-color:  #bdf4ff;\n",
       "            color:  black;\n",
       "        }    #T_84f30546_1dc4_11ea_9fde_2cf0ee0994aerow5_col0 {\n",
       "            background-color:  white;\n",
       "            color:  red;\n",
       "        }    #T_84f30546_1dc4_11ea_9fde_2cf0ee0994aerow5_col1 {\n",
       "            background-color:  white;\n",
       "            color:  red;\n",
       "        }    #T_84f30546_1dc4_11ea_9fde_2cf0ee0994aerow5_col2 {\n",
       "            background-color:  white;\n",
       "            color:  black;\n",
       "        }    #T_84f30546_1dc4_11ea_9fde_2cf0ee0994aerow5_col3 {\n",
       "            background-color:  white;\n",
       "            color:  black;\n",
       "        }    #T_84f30546_1dc4_11ea_9fde_2cf0ee0994aerow5_col4 {\n",
       "            background-color:  white;\n",
       "            color:  red;\n",
       "        }    #T_84f30546_1dc4_11ea_9fde_2cf0ee0994aerow5_col5 {\n",
       "            background-color:  #009cff;\n",
       "            color:  black;\n",
       "        }    #T_84f30546_1dc4_11ea_9fde_2cf0ee0994aerow5_col6 {\n",
       "            background-color:  white;\n",
       "            color:  red;\n",
       "        }    #T_84f30546_1dc4_11ea_9fde_2cf0ee0994aerow5_col7 {\n",
       "            background-color:  white;\n",
       "            color:  black;\n",
       "        }    #T_84f30546_1dc4_11ea_9fde_2cf0ee0994aerow6_col0 {\n",
       "            background-color:  white;\n",
       "            color:  black;\n",
       "        }    #T_84f30546_1dc4_11ea_9fde_2cf0ee0994aerow6_col1 {\n",
       "            background-color:  white;\n",
       "            color:  black;\n",
       "        }    #T_84f30546_1dc4_11ea_9fde_2cf0ee0994aerow6_col2 {\n",
       "            background-color:  white;\n",
       "            color:  black;\n",
       "        }    #T_84f30546_1dc4_11ea_9fde_2cf0ee0994aerow6_col3 {\n",
       "            background-color:  #009cff;\n",
       "            color:  black;\n",
       "        }    #T_84f30546_1dc4_11ea_9fde_2cf0ee0994aerow6_col4 {\n",
       "            background-color:  #009cff;\n",
       "            color:  black;\n",
       "        }    #T_84f30546_1dc4_11ea_9fde_2cf0ee0994aerow6_col5 {\n",
       "            background-color:  white;\n",
       "            color:  red;\n",
       "        }    #T_84f30546_1dc4_11ea_9fde_2cf0ee0994aerow6_col6 {\n",
       "            background-color:  #009cff;\n",
       "            color:  black;\n",
       "        }    #T_84f30546_1dc4_11ea_9fde_2cf0ee0994aerow6_col7 {\n",
       "            background-color:  white;\n",
       "            color:  black;\n",
       "        }    #T_84f30546_1dc4_11ea_9fde_2cf0ee0994aerow7_col0 {\n",
       "            background-color:  white;\n",
       "            color:  black;\n",
       "        }    #T_84f30546_1dc4_11ea_9fde_2cf0ee0994aerow7_col1 {\n",
       "            background-color:  white;\n",
       "            color:  black;\n",
       "        }    #T_84f30546_1dc4_11ea_9fde_2cf0ee0994aerow7_col2 {\n",
       "            background-color:  white;\n",
       "            color:  black;\n",
       "        }    #T_84f30546_1dc4_11ea_9fde_2cf0ee0994aerow7_col3 {\n",
       "            background-color:  #bdf4ff;\n",
       "            color:  black;\n",
       "        }    #T_84f30546_1dc4_11ea_9fde_2cf0ee0994aerow7_col4 {\n",
       "            background-color:  #bdf4ff;\n",
       "            color:  black;\n",
       "        }    #T_84f30546_1dc4_11ea_9fde_2cf0ee0994aerow7_col5 {\n",
       "            background-color:  white;\n",
       "            color:  black;\n",
       "        }    #T_84f30546_1dc4_11ea_9fde_2cf0ee0994aerow7_col6 {\n",
       "            background-color:  white;\n",
       "            color:  black;\n",
       "        }    #T_84f30546_1dc4_11ea_9fde_2cf0ee0994aerow7_col7 {\n",
       "            background-color:  #009cff;\n",
       "            color:  black;\n",
       "        }</style><table id=\"T_84f30546_1dc4_11ea_9fde_2cf0ee0994ae\" ><thead>    <tr>        <th class=\"blank level0\" ></th>        <th class=\"col_heading level0 col0\" >Quarters of last 12 in noncompliance (violations or unreported)</th>        <th class=\"col_heading level0 col1\" >Quarters of last 12 in violation (includes serious)</th>        <th class=\"col_heading level0 col2\" >Quarters of last 12 in serious violation</th>        <th class=\"col_heading level0 col3\" >Total enforcement actions and inspections in last 5 years</th>        <th class=\"col_heading level0 col4\" >Total enforcement actions in last 5 years</th>        <th class=\"col_heading level0 col5\" >Inspections in last 5 years</th>        <th class=\"col_heading level0 col6\" >Informal enforcement actions in last 5 years</th>        <th class=\"col_heading level0 col7\" >Formal enforcement actions in last 5 years</th>    </tr></thead><tbody>\n",
       "                <tr>\n",
       "                        <th id=\"T_84f30546_1dc4_11ea_9fde_2cf0ee0994aelevel0_row0\" class=\"row_heading level0 row0\" >Quarters of last 12 in noncompliance (violations or unreported)</th>\n",
       "                        <td id=\"T_84f30546_1dc4_11ea_9fde_2cf0ee0994aerow0_col0\" class=\"data row0 col0\" >1</td>\n",
       "                        <td id=\"T_84f30546_1dc4_11ea_9fde_2cf0ee0994aerow0_col1\" class=\"data row0 col1\" >1</td>\n",
       "                        <td id=\"T_84f30546_1dc4_11ea_9fde_2cf0ee0994aerow0_col2\" class=\"data row0 col2\" >0.337663</td>\n",
       "                        <td id=\"T_84f30546_1dc4_11ea_9fde_2cf0ee0994aerow0_col3\" class=\"data row0 col3\" >0.199798</td>\n",
       "                        <td id=\"T_84f30546_1dc4_11ea_9fde_2cf0ee0994aerow0_col4\" class=\"data row0 col4\" >0.206145</td>\n",
       "                        <td id=\"T_84f30546_1dc4_11ea_9fde_2cf0ee0994aerow0_col5\" class=\"data row0 col5\" >-0.0100728</td>\n",
       "                        <td id=\"T_84f30546_1dc4_11ea_9fde_2cf0ee0994aerow0_col6\" class=\"data row0 col6\" >0.206427</td>\n",
       "                        <td id=\"T_84f30546_1dc4_11ea_9fde_2cf0ee0994aerow0_col7\" class=\"data row0 col7\" >0.0700999</td>\n",
       "            </tr>\n",
       "            <tr>\n",
       "                        <th id=\"T_84f30546_1dc4_11ea_9fde_2cf0ee0994aelevel0_row1\" class=\"row_heading level0 row1\" >Quarters of last 12 in violation (includes serious)</th>\n",
       "                        <td id=\"T_84f30546_1dc4_11ea_9fde_2cf0ee0994aerow1_col0\" class=\"data row1 col0\" >1</td>\n",
       "                        <td id=\"T_84f30546_1dc4_11ea_9fde_2cf0ee0994aerow1_col1\" class=\"data row1 col1\" >1</td>\n",
       "                        <td id=\"T_84f30546_1dc4_11ea_9fde_2cf0ee0994aerow1_col2\" class=\"data row1 col2\" >0.337663</td>\n",
       "                        <td id=\"T_84f30546_1dc4_11ea_9fde_2cf0ee0994aerow1_col3\" class=\"data row1 col3\" >0.199798</td>\n",
       "                        <td id=\"T_84f30546_1dc4_11ea_9fde_2cf0ee0994aerow1_col4\" class=\"data row1 col4\" >0.206145</td>\n",
       "                        <td id=\"T_84f30546_1dc4_11ea_9fde_2cf0ee0994aerow1_col5\" class=\"data row1 col5\" >-0.0100728</td>\n",
       "                        <td id=\"T_84f30546_1dc4_11ea_9fde_2cf0ee0994aerow1_col6\" class=\"data row1 col6\" >0.206427</td>\n",
       "                        <td id=\"T_84f30546_1dc4_11ea_9fde_2cf0ee0994aerow1_col7\" class=\"data row1 col7\" >0.0700999</td>\n",
       "            </tr>\n",
       "            <tr>\n",
       "                        <th id=\"T_84f30546_1dc4_11ea_9fde_2cf0ee0994aelevel0_row2\" class=\"row_heading level0 row2\" >Quarters of last 12 in serious violation</th>\n",
       "                        <td id=\"T_84f30546_1dc4_11ea_9fde_2cf0ee0994aerow2_col0\" class=\"data row2 col0\" >0.337663</td>\n",
       "                        <td id=\"T_84f30546_1dc4_11ea_9fde_2cf0ee0994aerow2_col1\" class=\"data row2 col1\" >0.337663</td>\n",
       "                        <td id=\"T_84f30546_1dc4_11ea_9fde_2cf0ee0994aerow2_col2\" class=\"data row2 col2\" >1</td>\n",
       "                        <td id=\"T_84f30546_1dc4_11ea_9fde_2cf0ee0994aerow2_col3\" class=\"data row2 col3\" >0.0785578</td>\n",
       "                        <td id=\"T_84f30546_1dc4_11ea_9fde_2cf0ee0994aerow2_col4\" class=\"data row2 col4\" >0.0566296</td>\n",
       "                        <td id=\"T_84f30546_1dc4_11ea_9fde_2cf0ee0994aerow2_col5\" class=\"data row2 col5\" >0.102878</td>\n",
       "                        <td id=\"T_84f30546_1dc4_11ea_9fde_2cf0ee0994aerow2_col6\" class=\"data row2 col6\" >0.0485694</td>\n",
       "                        <td id=\"T_84f30546_1dc4_11ea_9fde_2cf0ee0994aerow2_col7\" class=\"data row2 col7\" >0.0588247</td>\n",
       "            </tr>\n",
       "            <tr>\n",
       "                        <th id=\"T_84f30546_1dc4_11ea_9fde_2cf0ee0994aelevel0_row3\" class=\"row_heading level0 row3\" >Total enforcement actions and inspections in last 5 years</th>\n",
       "                        <td id=\"T_84f30546_1dc4_11ea_9fde_2cf0ee0994aerow3_col0\" class=\"data row3 col0\" >0.199798</td>\n",
       "                        <td id=\"T_84f30546_1dc4_11ea_9fde_2cf0ee0994aerow3_col1\" class=\"data row3 col1\" >0.199798</td>\n",
       "                        <td id=\"T_84f30546_1dc4_11ea_9fde_2cf0ee0994aerow3_col2\" class=\"data row3 col2\" >0.0785578</td>\n",
       "                        <td id=\"T_84f30546_1dc4_11ea_9fde_2cf0ee0994aerow3_col3\" class=\"data row3 col3\" >1</td>\n",
       "                        <td id=\"T_84f30546_1dc4_11ea_9fde_2cf0ee0994aerow3_col4\" class=\"data row3 col4\" >0.97459</td>\n",
       "                        <td id=\"T_84f30546_1dc4_11ea_9fde_2cf0ee0994aerow3_col5\" class=\"data row3 col5\" >0.199691</td>\n",
       "                        <td id=\"T_84f30546_1dc4_11ea_9fde_2cf0ee0994aerow3_col6\" class=\"data row3 col6\" >0.954073</td>\n",
       "                        <td id=\"T_84f30546_1dc4_11ea_9fde_2cf0ee0994aerow3_col7\" class=\"data row3 col7\" >0.437659</td>\n",
       "            </tr>\n",
       "            <tr>\n",
       "                        <th id=\"T_84f30546_1dc4_11ea_9fde_2cf0ee0994aelevel0_row4\" class=\"row_heading level0 row4\" >Total enforcement actions in last 5 years</th>\n",
       "                        <td id=\"T_84f30546_1dc4_11ea_9fde_2cf0ee0994aerow4_col0\" class=\"data row4 col0\" >0.206145</td>\n",
       "                        <td id=\"T_84f30546_1dc4_11ea_9fde_2cf0ee0994aerow4_col1\" class=\"data row4 col1\" >0.206145</td>\n",
       "                        <td id=\"T_84f30546_1dc4_11ea_9fde_2cf0ee0994aerow4_col2\" class=\"data row4 col2\" >0.0566296</td>\n",
       "                        <td id=\"T_84f30546_1dc4_11ea_9fde_2cf0ee0994aerow4_col3\" class=\"data row4 col3\" >0.97459</td>\n",
       "                        <td id=\"T_84f30546_1dc4_11ea_9fde_2cf0ee0994aerow4_col4\" class=\"data row4 col4\" >1</td>\n",
       "                        <td id=\"T_84f30546_1dc4_11ea_9fde_2cf0ee0994aerow4_col5\" class=\"data row4 col5\" >-0.0248695</td>\n",
       "                        <td id=\"T_84f30546_1dc4_11ea_9fde_2cf0ee0994aerow4_col6\" class=\"data row4 col6\" >0.982632</td>\n",
       "                        <td id=\"T_84f30546_1dc4_11ea_9fde_2cf0ee0994aerow4_col7\" class=\"data row4 col7\" >0.431162</td>\n",
       "            </tr>\n",
       "            <tr>\n",
       "                        <th id=\"T_84f30546_1dc4_11ea_9fde_2cf0ee0994aelevel0_row5\" class=\"row_heading level0 row5\" >Inspections in last 5 years</th>\n",
       "                        <td id=\"T_84f30546_1dc4_11ea_9fde_2cf0ee0994aerow5_col0\" class=\"data row5 col0\" >-0.0100728</td>\n",
       "                        <td id=\"T_84f30546_1dc4_11ea_9fde_2cf0ee0994aerow5_col1\" class=\"data row5 col1\" >-0.0100728</td>\n",
       "                        <td id=\"T_84f30546_1dc4_11ea_9fde_2cf0ee0994aerow5_col2\" class=\"data row5 col2\" >0.102878</td>\n",
       "                        <td id=\"T_84f30546_1dc4_11ea_9fde_2cf0ee0994aerow5_col3\" class=\"data row5 col3\" >0.199691</td>\n",
       "                        <td id=\"T_84f30546_1dc4_11ea_9fde_2cf0ee0994aerow5_col4\" class=\"data row5 col4\" >-0.0248695</td>\n",
       "                        <td id=\"T_84f30546_1dc4_11ea_9fde_2cf0ee0994aerow5_col5\" class=\"data row5 col5\" >1</td>\n",
       "                        <td id=\"T_84f30546_1dc4_11ea_9fde_2cf0ee0994aerow5_col6\" class=\"data row5 col6\" >-0.0404577</td>\n",
       "                        <td id=\"T_84f30546_1dc4_11ea_9fde_2cf0ee0994aerow5_col7\" class=\"data row5 col7\" >0.0671709</td>\n",
       "            </tr>\n",
       "            <tr>\n",
       "                        <th id=\"T_84f30546_1dc4_11ea_9fde_2cf0ee0994aelevel0_row6\" class=\"row_heading level0 row6\" >Informal enforcement actions in last 5 years</th>\n",
       "                        <td id=\"T_84f30546_1dc4_11ea_9fde_2cf0ee0994aerow6_col0\" class=\"data row6 col0\" >0.206427</td>\n",
       "                        <td id=\"T_84f30546_1dc4_11ea_9fde_2cf0ee0994aerow6_col1\" class=\"data row6 col1\" >0.206427</td>\n",
       "                        <td id=\"T_84f30546_1dc4_11ea_9fde_2cf0ee0994aerow6_col2\" class=\"data row6 col2\" >0.0485694</td>\n",
       "                        <td id=\"T_84f30546_1dc4_11ea_9fde_2cf0ee0994aerow6_col3\" class=\"data row6 col3\" >0.954073</td>\n",
       "                        <td id=\"T_84f30546_1dc4_11ea_9fde_2cf0ee0994aerow6_col4\" class=\"data row6 col4\" >0.982632</td>\n",
       "                        <td id=\"T_84f30546_1dc4_11ea_9fde_2cf0ee0994aerow6_col5\" class=\"data row6 col5\" >-0.0404577</td>\n",
       "                        <td id=\"T_84f30546_1dc4_11ea_9fde_2cf0ee0994aerow6_col6\" class=\"data row6 col6\" >1</td>\n",
       "                        <td id=\"T_84f30546_1dc4_11ea_9fde_2cf0ee0994aerow6_col7\" class=\"data row6 col7\" >0.25624</td>\n",
       "            </tr>\n",
       "            <tr>\n",
       "                        <th id=\"T_84f30546_1dc4_11ea_9fde_2cf0ee0994aelevel0_row7\" class=\"row_heading level0 row7\" >Formal enforcement actions in last 5 years</th>\n",
       "                        <td id=\"T_84f30546_1dc4_11ea_9fde_2cf0ee0994aerow7_col0\" class=\"data row7 col0\" >0.0700999</td>\n",
       "                        <td id=\"T_84f30546_1dc4_11ea_9fde_2cf0ee0994aerow7_col1\" class=\"data row7 col1\" >0.0700999</td>\n",
       "                        <td id=\"T_84f30546_1dc4_11ea_9fde_2cf0ee0994aerow7_col2\" class=\"data row7 col2\" >0.0588247</td>\n",
       "                        <td id=\"T_84f30546_1dc4_11ea_9fde_2cf0ee0994aerow7_col3\" class=\"data row7 col3\" >0.437659</td>\n",
       "                        <td id=\"T_84f30546_1dc4_11ea_9fde_2cf0ee0994aerow7_col4\" class=\"data row7 col4\" >0.431162</td>\n",
       "                        <td id=\"T_84f30546_1dc4_11ea_9fde_2cf0ee0994aerow7_col5\" class=\"data row7 col5\" >0.0671709</td>\n",
       "                        <td id=\"T_84f30546_1dc4_11ea_9fde_2cf0ee0994aerow7_col6\" class=\"data row7 col6\" >0.25624</td>\n",
       "                        <td id=\"T_84f30546_1dc4_11ea_9fde_2cf0ee0994aerow7_col7\" class=\"data row7 col7\" >1</td>\n",
       "            </tr>\n",
       "    </tbody></table>"
      ],
      "text/plain": [
       "<pandas.io.formats.style.Styler at 0x1194cbc50>"
      ]
     },
     "execution_count": 28,
     "metadata": {},
     "output_type": "execute_result"
    }
   ],
   "source": [
    "# visualize– conditional formatting on correlations\n",
    "def color_negative_red(val):\n",
    "    color = 'red' if val < 0 else 'black'\n",
    "    return 'color: %s' % color\n",
    "\n",
    "def color_corrs(val):\n",
    "    if abs(val) > .7:\n",
    "        color = '#009cff'\n",
    "    elif abs(val) > .3:\n",
    "        color = \"#bdf4ff\"\n",
    "    else:\n",
    "        color = 'white'\n",
    "    return 'background-color: %s' % color\n",
    "\n",
    "visual_corr = correlations.style.applymap(color_corrs)\n",
    "visual_corr.applymap(color_negative_red)"
   ]
  },
  {
   "cell_type": "code",
   "execution_count": null,
   "metadata": {},
   "outputs": [],
   "source": []
  }
 ],
 "metadata": {
  "kernelspec": {
   "display_name": "Python 3",
   "language": "python",
   "name": "python3"
  },
  "language_info": {
   "codemirror_mode": {
    "name": "ipython",
    "version": 3
   },
   "file_extension": ".py",
   "mimetype": "text/x-python",
   "name": "python",
   "nbconvert_exporter": "python",
   "pygments_lexer": "ipython3",
   "version": "3.7.4"
  }
 },
 "nbformat": 4,
 "nbformat_minor": 2
}
